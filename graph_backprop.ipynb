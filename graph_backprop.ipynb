{
 "cells": [
  {
   "cell_type": "code",
   "execution_count": 1,
   "metadata": {},
   "outputs": [],
   "source": [
    "import math\n",
    "import random\n",
    "import numpy as np\n",
    "import matplotlib.pyplot as plt\n",
    "\n",
    "%matplotlib inline"
   ]
  },
  {
   "cell_type": "code",
   "execution_count": 120,
   "metadata": {},
   "outputs": [],
   "source": [
    "class GraphNet:\n",
    "    # Make an empty graph on n nodes with linear activation\n",
    "    def __init__(self, n):\n",
    "        self.size = n\n",
    "        self.adj = np.zeros((n, n))\n",
    "        self.weights = np.zeros((n, n))\n",
    "        self.act = ['linear' for i in range(self.size)]\n",
    "        self.input_nodes = [0] # Default\n",
    "        self.output_nodes = [n-1] # Default\n",
    "        self.tempstates = [[0 for i in range(self.size)]]\n",
    "        self.states = [[0 for i in range(self.size)]]\n",
    "        self.mode = 'overwrite'\n",
    "        self.time = 0\n",
    "    \n",
    "    # Sets the mode for the step method\n",
    "    # Options: overwrite, add\n",
    "    def mode(self, m):\n",
    "        self.mode = m\n",
    "    \n",
    "    # Connect an edge from node i to node j\n",
    "    def connect(self, i, j):\n",
    "        self.adj[j,i] = 1\n",
    "    \n",
    "    # Connect a list of nodes in a sequential loop\n",
    "    def connect_loop(self, v):\n",
    "        for i in range(len(v)):\n",
    "            self.adj[v[(i+1)%len(v)], v[i]] = 1\n",
    "    \n",
    "    # Connect in a clique, other than self-connections\n",
    "    def connect_complete(self, v):\n",
    "        for i in range(len(v)):\n",
    "            for j in range(len(v)):\n",
    "                if i == j:\n",
    "                    continue\n",
    "                self.adj[v[j], v[i]] = 1\n",
    "    \n",
    "    # Change activation on node i\n",
    "    # Options: linear, relu, sigmoid/logistic, tanh\n",
    "    def activation(self, i, f):\n",
    "        self.act[i] = f\n",
    "    \n",
    "    # Change activations on a list of nodes\n",
    "    def activations(self, v, f):\n",
    "        for i in range(len(v)):\n",
    "            self.act[v[i]] = f\n",
    "    \n",
    "    # Get the list of edge weights that are inputs to node i\n",
    "    def inputs(self, i):\n",
    "        ins = []\n",
    "        for k in range(self.size):\n",
    "            if self.adj[i,k] != 0:\n",
    "                ins.append(k)\n",
    "        return ins\n",
    "    \n",
    "    # Get the list of edge weights that are outputs from node i\n",
    "    def outputs(self, i):\n",
    "        outs = []\n",
    "        for k in range(self.size):\n",
    "            if self.adj[k,i] != 0:\n",
    "                outs.append(k)\n",
    "        return outs\n",
    "    \n",
    "    # Reset weights\n",
    "    def reset_weights(self):\n",
    "        self.weights = np.copy(self.adj)\n",
    "        self.reset_state() # No reason to save the state if the weights were reset.\n",
    "    \n",
    "    # Initialize random edge weights, assuming edge weights are all 0 or 1\n",
    "    def init_random(self):\n",
    "        self.weights = np.random.normal(size=(self.size, self.size))*self.adj\n",
    "    \n",
    "    # Normalize columns to satisfy Markov state transition rules\n",
    "    def init_markov(self):\n",
    "        self.init_random()\n",
    "        for i in range(self.size):\n",
    "            colsum = sum(self.weights[:,i])\n",
    "            if colsum != 0:\n",
    "                for j in range(self.size):\n",
    "                    self.weights[j,i] /= colsum\n",
    "    \n",
    "    def init_uniform(self):\n",
    "        self.weights = self.adj\n",
    "    \n",
    "    # Make the vector of indices be the input nodes\n",
    "    def define_input(self, v):\n",
    "        self.input_nodes = v\n",
    "    \n",
    "    # Make the vector of indices be the output nodes\n",
    "    def define_output(self, v):\n",
    "        self.output_nodes = v\n",
    "    \n",
    "    # Reset state\n",
    "    def reset_state(self):\n",
    "        self.states = [[0 for i in range(self.size)]]\n",
    "        self.tempstates = [[0 for i in range(self.size)]]\n",
    "    \n",
    "    # Runs one time step of the network, with the given input values, and returns the current output values\n",
    "    def step(self, input_vals):\n",
    "        self.time += 1\n",
    "        # tempstate = [self.states[-1][i] for i in range(self.size)]\n",
    "        # Edit the inputs of the last state. This will make things consistent, so each step is a single state\n",
    "        if self.mode == 'overwrite':\n",
    "            for i in range(len(self.input_nodes)):\n",
    "                self.states[-1][self.input_nodes[i]] = input_vals[i]\n",
    "        if self.mode == 'add':\n",
    "            for i in range(len(self.input_nodes)):\n",
    "                self.states[-1][self.input_nodes[i]] += input_vals[i]\n",
    "        \n",
    "        # Bias neurons need to be activated before the step\n",
    "        for i in range(self.size):\n",
    "            if self.act[i] == 'bias':\n",
    "                self.states[-1][i] = 1\n",
    "        \n",
    "        # Weighted sum of inputs\n",
    "        tempstate = np.dot(self.weights, self.states[-1])\n",
    "        # Apply activation functions\n",
    "        state = [tempstate[i] for i in range(self.size)]\n",
    "        \n",
    "        for i in range(self.size):\n",
    "            #if self.act[i] == 'linear':\n",
    "            #    do nothing\n",
    "            if self.act[i] == 'relu':\n",
    "                state[i] = state[i] if state[i] > 0 else 0\n",
    "            if self.act[i] == 'sigmoid' or self.act[i] == 'logistic':\n",
    "                state[i] = 1.0/(1.0+math.exp(-state[i]))\n",
    "            if self.act[i] == 'tanh':\n",
    "                state[i] = (math.exp(2*state[i]) - 1)/(math.exp(2*state[i]) + 1)\n",
    "        \n",
    "        output_vals = [state[self.output_nodes[i]] for i in range(len(self.output_nodes))]\n",
    "        self.tempstates.append(tempstate)\n",
    "        self.states.append(state)\n",
    "        return output_vals\n",
    "    \n",
    "    # Runs several time steps of the network, with the given vector of input value vectors at each time step, \n",
    "    # and returns a vector of output values\n",
    "    def steps(self, input_vals_v, n=0):\n",
    "        output_vals_v = []\n",
    "        empty_input = [0 for i in range(len(self.input_nodes))]\n",
    "        for t in range(max(n, len(input_vals_v))):\n",
    "            input_vals = empty_input\n",
    "            if t < len(input_vals_v):\n",
    "                input_vals = input_vals_v[t]\n",
    "            output_vals_v.append(self.step(input_vals))\n",
    "        return output_vals_v\n",
    "    \n",
    "    # Run n steps on a input only at initial step\n",
    "    def stepn(self, input_vals_0, n=1, reset=True):\n",
    "        if reset:\n",
    "            self.reset_state()\n",
    "        output_vals_v = []\n",
    "        empty_input = [0 for i in range(len(self.input_nodes))]\n",
    "        for t in range(n):\n",
    "            input_vals = empty_input\n",
    "            if t == 0:\n",
    "                input_vals = input_vals_0\n",
    "            output_vals_v.append(self.step(input_vals))\n",
    "        return output_vals_v\n",
    "    \n",
    "    # Run as many steps as necessary until you get a nonzero output\n",
    "    def stepv(self, input_vals_0, reset=True, max_step=100, verbose=True):\n",
    "        if reset:\n",
    "            self.reset_state()\n",
    "        output_vals = [0 for i in range(len(self.output_nodes))]\n",
    "        empty_input = [0 for i in range(len(self.input_nodes))]\n",
    "        t = 0\n",
    "        while t < max_step and np.count_nonzero(output_vals) == 0:\n",
    "            input_vals = empty_input\n",
    "            if t == 0:\n",
    "                input_vals = input_vals_0\n",
    "            output_vals = self.step(input_vals)\n",
    "            t += 1\n",
    "        if t == max_step:\n",
    "            print(\"Max step reached!\")\n",
    "        if verbose:\n",
    "            print(t)\n",
    "        return output_vals\n",
    "    \n",
    "    # Waits until the first nonzero output value and uses that as the real output\n",
    "    def error_first(self, train_vals, label_vals, max_step=100):\n",
    "        self.reset_state()\n",
    "        output_vals = [0 for i in range(len(self.output_nodes))]\n",
    "        empty_input = [0 for i in range(len(self.input_nodes))]\n",
    "        t = 0\n",
    "        while t < max_step and np.count_nonzero(output_vals) == 0:\n",
    "            input_vals = empty_input\n",
    "            if t == 0:\n",
    "                input_vals = train_vals\n",
    "            output_vals = self.step(input_vals)\n",
    "            t += 1\n",
    "        if t == max_step:\n",
    "            print(\"Max step reached!\")\n",
    "        err_v = np.subtract(output_vals, label_vals)\n",
    "        return err_v\n",
    "    \n",
    "    # Waits a fixed delay\n",
    "    def error_delay(self, train_vals, label_vals, delay, reset=True, max_step=100):\n",
    "        if reset:\n",
    "            self.reset_state()\n",
    "        output_vals = [0 for i in range(len(self.output_nodes))]\n",
    "        empty_input = [0 for i in range(len(self.input_nodes))]\n",
    "        t = 0\n",
    "        while t < delay:\n",
    "            input_vals = empty_input\n",
    "            if t == 0:\n",
    "                input_vals = train_vals\n",
    "            output_vals = self.step(input_vals)\n",
    "            t += 1\n",
    "        err_v = np.subtract(output_vals, label_vals)\n",
    "        return err_v\n",
    "    \n",
    "    # Delay is until the label sequence starts.\n",
    "    # Training sequence can be any length, but should be a 2D array\n",
    "    def error_sequence(self, train_seq, label_seq, delay=1, reset=True):\n",
    "        if reset:\n",
    "            self.reset_state()\n",
    "        output_seq = []\n",
    "        empty_input = [0 for i in range(len(self.input_nodes))]\n",
    "        t = 0\n",
    "        while t < delay+len(label_seq)-1:\n",
    "            input_vals = empty_input\n",
    "            if t < len(train_seq):\n",
    "                input_vals = train_seq[t]\n",
    "            if t < delay-1:\n",
    "                self.step(input_vals)\n",
    "            else:\n",
    "                output_seq.append(self.step(input_vals))\n",
    "            t += 1\n",
    "        #print(output_seq)\n",
    "        #print(label_seq)\n",
    "        err_v = np.subtract(np.asarray(output_seq), np.asarray(label_seq))\n",
    "        #print('Err_v: '+str(err_v))\n",
    "        return err_v\n",
    "    \n",
    "    # Mean square error of training batch. train_x and train_y are batches of training data\n",
    "    # If delay = 0, first nonzero output will be used, otherwise there will be a fixed delay before the output is sampled\n",
    "    def mse_batch(self, train_x, train_y, delay=0, reset=True, max_step=100):\n",
    "        data_type = 'fixed'\n",
    "        if len(np.asarray(train_x).shape) == 3:\n",
    "            data_type = 'sequence'\n",
    "        mse = 0\n",
    "        for k in range(len(train_x)):\n",
    "            if data_type == 'fixed':\n",
    "                if delay == 0:\n",
    "                    mse += sum(self.error_first(train_x[k], train_y[k], max_step)**2)\n",
    "                else:\n",
    "                    mse += sum(self.error_delay(train_x[k], train_y[k], delay, reset, max_step)**2)\n",
    "            elif data_type == 'sequence':\n",
    "                val = self.error_sequence(train_x[k], train_y[k], delay, reset)\n",
    "                #print('Err: '+str(val))\n",
    "                mse += sum(val**2)\n",
    "        mse /= 2*len(train_x) # Factor of 1/2 for the coefficient of 2 on the derivative to cancel, as usual...\n",
    "        return mse\n",
    "    \n",
    "    def backprop(self, train_vals, label_vals, delay=1, verbose=False):\n",
    "        # Need to redesign this, since the current way it's set up probably doesn't work properly for loops\n",
    "        # Maybe a recursive rather than iterative design would be easier to write.\n",
    "        # Initialize with zero matrix of derivatives for each weight\n",
    "        dw = np.zeros((self.size, self.size))\n",
    "        # Calculate error function\n",
    "        # E = 1/2 (observed - expected)**2\n",
    "        err_v = [[0 for i in range(len(self.output_nodes))]] #Initialize to empty array for each output node\n",
    "        if len(np.asarray(label_vals).shape) == 1:\n",
    "            err_v = [self.error_delay(train_vals, label_vals, delay)] # Row vector, one time step\n",
    "        if len(np.asarray(label_vals).shape) == 2:\n",
    "            err_v = self.error_sequence(train_vals, label_vals, delay=delay) # 2D, rows are time steps\n",
    "        # Look at each time step\n",
    "        for dt in range(len(err_v)):\n",
    "            nodes_i = [self.output_nodes[i] for i in range(len(self.output_nodes))]\n",
    "            nodes_d = [err_v[len(err_v)-1-dt][i] for i in range(len(self.output_nodes))]\n",
    "            newnodes_i = []\n",
    "            newnodes_d = []\n",
    "            # dE/dw = (observed - expected) * d(observed)/dw\n",
    "            for k in range(1, len(self.states)-dt): # Or max step size, maybe? \n",
    "                for i in range(len(nodes_i)):\n",
    "                    # node value = activation( weighted sum of input values )\n",
    "                    # d node value / dw = activation'( weighted sum of input values ) * d (weighted sum of input values) / dw\n",
    "                    node_val = self.states[len(self.states)-k-dt][nodes_i[i]]\n",
    "                    node_sum = self.tempstates[len(self.states)-k-dt][nodes_i[i]]\n",
    "                    act_deriv = 1\n",
    "                    #if self.act[nodes_i[i]] == 'linear':\n",
    "                    #    do nothing\n",
    "                    if self.act[nodes_i[i]] == 'relu' and node_sum < 0:\n",
    "                        act_deriv = 0\n",
    "                    if self.act[nodes_i[i]] == 'sigmoid' or self.act[nodes_i[i]] == 'logistic':\n",
    "                        act_deriv = node_val * (1 - node_val)\n",
    "                    if self.act[nodes_i[i]] == 'tanh':\n",
    "                        act_deriv = 4.0/(math.exp(node_sum)+math.exp(-node_sum))**2\n",
    "                    in_nodes_i = self.inputs(nodes_i[i])\n",
    "                    for j in range(len(in_nodes_i)):\n",
    "                        # Self-weights are covered just fine when nodes_i[i] = in_nodes_i[j]\n",
    "                        in_node_val = self.states[len(self.states)-(k+1)-dt][in_nodes_i[j]]\n",
    "                        # d (weighted sum of input values) / dw = input value [...for w in these weights]\n",
    "                        dweight = nodes_d[i] * act_deriv * in_node_val\n",
    "                        # Add this to the total derivative with respect to this weight\n",
    "                        dw[nodes_i[i], in_nodes_i[j]] += dweight\n",
    "                        if verbose:\n",
    "                            print(dw)\n",
    "                        # nodes_d stores the buildup of chained derivatives\n",
    "                        weight = self.weights[nodes_i[i], in_nodes_i[j]]\n",
    "                        # d (weighted sum of input values) / dw = ... * weight * d node value / dw\n",
    "                        if in_nodes_i[j] in newnodes_i:\n",
    "                            index = newnodes_i.index(in_nodes_i[j])\n",
    "                            newnodes_d[index] += nodes_d[i] * act_deriv * weight\n",
    "                        else:\n",
    "                            newnodes_i.append(in_nodes_i[j])\n",
    "                            newnodes_d.append( nodes_d[i] * act_deriv * weight )\n",
    "                nodes_i = newnodes_i\n",
    "                nodes_d = newnodes_d\n",
    "                newnodes_i = []\n",
    "                newnodes_d = []\n",
    "        return dw\n",
    "    \n",
    "    # Uses the whole dataset as the batches\n",
    "    def train(self, train_x, train_y, delay, epochs, learning_rate, verbose=False):\n",
    "        errors = []\n",
    "        # Evaluate initial error\n",
    "        errors.append(self.mse_batch(train_x, train_y, delay=delay))\n",
    "        for ep in range(epochs):\n",
    "            dw = np.zeros((self.size, self.size))\n",
    "            for k in range(len(train_x)):\n",
    "                dw += self.backprop(train_x[k], train_y[k], delay)\n",
    "            self.weights += - learning_rate * dw / len(train_x)\n",
    "            # Evaluate error to see how we're doing.\n",
    "            if verbose or ep == epochs-1:\n",
    "                errors.append(self.mse_batch(train_x, train_y, delay=delay))\n",
    "        if verbose:\n",
    "            print(self.weights)\n",
    "        return errors"
   ]
  },
  {
   "cell_type": "code",
   "execution_count": 340,
   "metadata": {},
   "outputs": [],
   "source": [
    "test = GraphNet(4)\n",
    "test.connect(0,1)\n",
    "test.connect(1,2)\n",
    "test.connect(2,1)\n",
    "test.connect(2,3)\n",
    "test.define_input([0])\n",
    "test.define_output([3])"
   ]
  },
  {
   "cell_type": "code",
   "execution_count": 341,
   "metadata": {},
   "outputs": [
    {
     "data": {
      "text/plain": [
       "array([[0.        , 0.        , 0.        , 0.        ],\n",
       "       [1.        , 0.        , 0.41474401, 0.        ],\n",
       "       [0.        , 1.        , 0.        , 0.        ],\n",
       "       [0.        , 0.        , 0.58525599, 0.        ]])"
      ]
     },
     "execution_count": 341,
     "metadata": {},
     "output_type": "execute_result"
    }
   ],
   "source": [
    "test.adj\n",
    "test.init_markov()\n",
    "test.weights"
   ]
  },
  {
   "cell_type": "code",
   "execution_count": 168,
   "metadata": {},
   "outputs": [
    {
     "data": {
      "text/plain": [
       "[[0.0],\n",
       " [0.0],\n",
       " [0.44203492419103935],\n",
       " [0.0],\n",
       " [0.2466400499864614],\n",
       " [0.0],\n",
       " [0.13761653418822178],\n",
       " [0.0],\n",
       " [0.07678521993089758],\n",
       " [0.0]]"
      ]
     },
     "execution_count": 168,
     "metadata": {},
     "output_type": "execute_result"
    }
   ],
   "source": [
    "test.stepn([1], 10)"
   ]
  },
  {
   "cell_type": "code",
   "execution_count": 172,
   "metadata": {},
   "outputs": [
    {
     "data": {
      "text/plain": [
       "[[0.0],\n",
       " [0.0],\n",
       " [0.44203492419103935],\n",
       " [0.22101746209551967],\n",
       " [0.35714878103422126],\n",
       " [0.17857439051711063],\n",
       " [0.19927654668483713],\n",
       " [0.09963827334241857],\n",
       " [0.11118935347795303],\n",
       " [0.055594676738976515]]"
      ]
     },
     "execution_count": 172,
     "metadata": {},
     "output_type": "execute_result"
    }
   ],
   "source": [
    "test.reset_state()\n",
    "test.steps([[1],[0.5],[0.25],[0.125]], 10)"
   ]
  },
  {
   "cell_type": "code",
   "execution_count": 287,
   "metadata": {},
   "outputs": [
    {
     "data": {
      "text/plain": [
       "0.3423384182578477"
      ]
     },
     "execution_count": 287,
     "metadata": {},
     "output_type": "execute_result"
    }
   ],
   "source": [
    "train_x = [[1]]\n",
    "train_y = [[1]]\n",
    "test.mse_batch(train_x, train_y, delay=3)"
   ]
  },
  {
   "cell_type": "code",
   "execution_count": 345,
   "metadata": {},
   "outputs": [
    {
     "name": "stdout",
     "output_type": "stream",
     "text": [
      "0.41474400636523623\n",
      "[[ 0.          0.          0.          0.        ]\n",
      " [ 0.          0.          0.          0.        ]\n",
      " [ 0.          0.          0.          0.        ]\n",
      " [ 0.          0.         -0.31407261  0.        ]]\n",
      "0.41474400636523623\n",
      "[[ 0.          0.          0.          0.        ]\n",
      " [ 0.          0.          0.          0.        ]\n",
      " [ 0.         -0.18381288  0.          0.        ]\n",
      " [ 0.          0.         -0.31407261  0.        ]]\n",
      "0\n",
      "[[ 0.          0.          0.          0.        ]\n",
      " [ 0.          0.          0.          0.        ]\n",
      " [ 0.         -0.18381288  0.          0.        ]\n",
      " [ 0.          0.         -0.31407261  0.        ]]\n",
      "1.0\n",
      "[[ 0.          0.          0.          0.        ]\n",
      " [ 0.          0.         -0.44319598  0.        ]\n",
      " [ 0.         -0.18381288  0.          0.        ]\n",
      " [ 0.          0.         -0.31407261  0.        ]]\n",
      "1.0\n",
      "[[ 0.          0.          0.          0.        ]\n",
      " [ 0.          0.         -0.44319598  0.        ]\n",
      " [ 0.         -0.36762575  0.          0.        ]\n",
      " [ 0.          0.         -0.31407261  0.        ]]\n",
      "1\n",
      "[[ 0.          0.          0.          0.        ]\n",
      " [-0.18381288  0.         -0.44319598  0.        ]\n",
      " [ 0.         -0.36762575  0.          0.        ]\n",
      " [ 0.          0.         -0.31407261  0.        ]]\n",
      "0\n",
      "[[ 0.          0.          0.          0.        ]\n",
      " [-0.18381288  0.         -0.44319598  0.        ]\n",
      " [ 0.         -0.36762575  0.          0.        ]\n",
      " [ 0.          0.         -0.31407261  0.        ]]\n"
     ]
    },
    {
     "data": {
      "text/plain": [
       "array([[ 0.        ,  0.        ,  0.        ,  0.        ],\n",
       "       [-0.18381288,  0.        , -0.44319598,  0.        ],\n",
       "       [ 0.        , -0.36762575,  0.        ,  0.        ],\n",
       "       [ 0.        ,  0.        , -0.31407261,  0.        ]])"
      ]
     },
     "execution_count": 345,
     "metadata": {},
     "output_type": "execute_result"
    }
   ],
   "source": [
    "test.backprop([1], [1], 5)"
   ]
  },
  {
   "cell_type": "code",
   "execution_count": 346,
   "metadata": {},
   "outputs": [
    {
     "data": {
      "text/plain": [
       "[[1, 0, 0, 0],\n",
       " [0, 1.0, 0.0, 0.0],\n",
       " [0, 0.0, 1.0, 0.0],\n",
       " [0, 0.41474400636523623, 0.0, 0.5852559936347638],\n",
       " [0, 0.0, 0.41474400636523623, 0.0],\n",
       " [0.0, 0.1720125908158871, 0.0, 0.24273141554934913]]"
      ]
     },
     "execution_count": 346,
     "metadata": {},
     "output_type": "execute_result"
    }
   ],
   "source": [
    "test.error_delay([1], [1], 5)\n",
    "test.states"
   ]
  },
  {
   "cell_type": "code",
   "execution_count": 102,
   "metadata": {},
   "outputs": [],
   "source": [
    "linear = GraphNet(3)\n",
    "linear.connect(0,2)\n",
    "linear.connect(1,2)\n",
    "linear.activation(1, 'bias')\n",
    "linear.define_input([0])\n",
    "linear.define_output([2])\n",
    "linear.init_markov() # Makes it really be slope and intercept 1 to begin"
   ]
  },
  {
   "cell_type": "code",
   "execution_count": 103,
   "metadata": {},
   "outputs": [
    {
     "data": {
      "text/plain": [
       "<matplotlib.collections.PathCollection at 0x274960d7ac8>"
      ]
     },
     "execution_count": 103,
     "metadata": {},
     "output_type": "execute_result"
    },
    {
     "data": {
      "image/png": "[encoded data removed]",
      "text/plain": [
       "<Figure size 432x288 with 1 Axes>"
      ]
     },
     "metadata": {
      "needs_background": "light"
     },
     "output_type": "display_data"
    }
   ],
   "source": [
    "scatter = 0.5\n",
    "slope = 0.5\n",
    "intercept = 2\n",
    "# Uniformly scattered points off a line\n",
    "train_lin_x = [[-5 + 0.1*i + scatter*(-1+2*random.random())] for i in range(100)]\n",
    "train_lin_y = [[intercept + slope*(-5+0.1*i) + scatter*(-1+2*random.random())] for i in range(100)]\n",
    "plt.scatter(train_lin_x, train_lin_y)"
   ]
  },
  {
   "cell_type": "code",
   "execution_count": 104,
   "metadata": {},
   "outputs": [
    {
     "name": "stdout",
     "output_type": "stream",
     "text": [
      "[[ 0.          0.         -0.        ]\n",
      " [ 0.          0.          0.        ]\n",
      " [ 0.50139491  2.06324296 -0.        ]]\n"
     ]
    }
   ],
   "source": [
    "# Estimated slope and intercept are present in the weights of the trained network\n",
    "errs = linear.train(train_lin_x, train_lin_y, delay=1, epochs=100, learning_rate=0.1, verbose=True)"
   ]
  },
  {
   "cell_type": "code",
   "execution_count": 105,
   "metadata": {},
   "outputs": [
    {
     "data": {
      "text/plain": [
       "[<matplotlib.lines.Line2D at 0x274973dee48>]"
      ]
     },
     "execution_count": 105,
     "metadata": {},
     "output_type": "execute_result"
    },
    {
     "data": {
      "image/png": "[encoded data removed]",
      "text/plain": [
       "<Figure size 432x288 with 1 Axes>"
      ]
     },
     "metadata": {
      "needs_background": "light"
     },
     "output_type": "display_data"
    }
   ],
   "source": [
    "# Seems to work decently well\n",
    "plt.plot(errs)"
   ]
  },
  {
   "cell_type": "code",
   "execution_count": 158,
   "metadata": {},
   "outputs": [],
   "source": [
    "rg = GraphNet(10)\n",
    "for k in range(20):\n",
    "    i = int(10*random.random())\n",
    "    j = int(10*random.random())\n",
    "    rg.connect(i, j)\n",
    "rg.init_random()\n",
    "rg.define_input([0])\n",
    "rg.define_output([9])"
   ]
  },
  {
   "cell_type": "code",
   "execution_count": 159,
   "metadata": {},
   "outputs": [
    {
     "name": "stdout",
     "output_type": "stream",
     "text": [
      "2\n"
     ]
    },
    {
     "data": {
      "text/plain": [
       "[0.28853528445530224]"
      ]
     },
     "execution_count": 159,
     "metadata": {},
     "output_type": "execute_result"
    }
   ],
   "source": [
    "rg.stepv([1]) # Making sure the graph's inputs are connected to the outputs -- might want to add a method for that."
   ]
  },
  {
   "cell_type": "code",
   "execution_count": 164,
   "metadata": {},
   "outputs": [
    {
     "name": "stdout",
     "output_type": "stream",
     "text": [
      "[[ 0.          0.76604431  0.          0.          0.          0.\n",
      "   0.          0.          0.          0.        ]\n",
      " [ 0.          0.          0.          0.          0.65658272  0.\n",
      "   0.          0.          0.          0.        ]\n",
      " [ 0.          0.46566976  0.          0.          0.72018871  0.\n",
      "   0.          0.          0.          0.20448006]\n",
      " [ 0.          0.          0.          0.          0.35285997  0.36857224\n",
      "   0.          0.          0.          0.25964157]\n",
      " [ 0.38470388  0.          0.85629552  0.          0.          0.\n",
      "   0.7162591   0.          0.          0.        ]\n",
      " [ 0.89029218  0.          0.          0.          0.30807922  0.\n",
      "   0.          0.          0.          0.74552709]\n",
      " [-0.66182751  0.71031871  0.          0.          0.          0.\n",
      "   0.          0.34419116  0.          0.        ]\n",
      " [ 0.          0.          0.          0.          0.          0.\n",
      "   0.          0.          0.          0.        ]\n",
      " [ 0.          0.          0.          0.          0.          0.\n",
      "   0.18885128  0.02570648  0.          0.        ]\n",
      " [ 0.          0.          0.          0.          0.97309145  0.\n",
      "   0.          0.          0.          0.        ]]\n"
     ]
    }
   ],
   "source": [
    "train_x = [[-1+2*random.random()] for i in range(10)]\n",
    "train_y = [[-1+2*random.random()] for i in range(10)]\n",
    "errs_rg = rg.train(train_x, train_y, delay=3, epochs=500, learning_rate=0.1, verbose=True)"
   ]
  },
  {
   "cell_type": "code",
   "execution_count": 165,
   "metadata": {},
   "outputs": [
    {
     "data": {
      "text/plain": [
       "[<matplotlib.lines.Line2D at 0x118487575f8>]"
      ]
     },
     "execution_count": 165,
     "metadata": {},
     "output_type": "execute_result"
    },
    {
     "data": {
      "image/png": "[encoded data removed]",
      "text/plain": [
       "<Figure size 432x288 with 1 Axes>"
      ]
     },
     "metadata": {
      "needs_background": "light"
     },
     "output_type": "display_data"
    }
   ],
   "source": [
    "# Oh wow, it actually sort of trained. \n",
    "# I wouldn't expect the minimum error to be 0 with random meaningless data, but this at least seems to be decreasing.\n",
    "plt.plot(errs_rg)"
   ]
  },
  {
   "cell_type": "code",
   "execution_count": 179,
   "metadata": {},
   "outputs": [],
   "source": [
    "# Testing a regular NN as a graph\n",
    "xor_net = GraphNet(6)\n",
    "xor_net.define_input([0,1])\n",
    "xor_net.connect(0,3)\n",
    "xor_net.connect(0,4)\n",
    "xor_net.connect(1,3)\n",
    "xor_net.connect(1,4)\n",
    "xor_net.connect(2,3)\n",
    "xor_net.connect(2,4)\n",
    "xor_net.connect(2,5)\n",
    "xor_net.connect(3,5)\n",
    "xor_net.connect(4,5)\n",
    "xor_net.activation(2, 'bias')\n",
    "xor_net.activations([3,4,5], 'sigmoid')\n",
    "xor_net.init_random()"
   ]
  },
  {
   "cell_type": "code",
   "execution_count": 180,
   "metadata": {},
   "outputs": [
    {
     "name": "stdout",
     "output_type": "stream",
     "text": [
      "[[-0.          0.          0.         -0.         -0.          0.        ]\n",
      " [ 0.          0.          0.         -0.         -0.          0.        ]\n",
      " [ 0.         -0.          0.          0.          0.         -0.        ]\n",
      " [-5.32411734  5.09592701 -2.77730006  0.          0.          0.        ]\n",
      " [-5.32405609  5.42833254  2.7199878   0.          0.          0.        ]\n",
      " [ 0.          0.          3.47485599  7.86496361 -7.48317471  0.        ]]\n"
     ]
    }
   ],
   "source": [
    "train_x = [[0,0], [0,1], [1,0], [1,1]]\n",
    "train_y = [[0], [1], [1], [0]]\n",
    "errs_xor = xor_net.train(train_x, train_y, delay=2, epochs=10000, learning_rate=0.5, verbose=True)"
   ]
  },
  {
   "cell_type": "code",
   "execution_count": 181,
   "metadata": {},
   "outputs": [
    {
     "data": {
      "text/plain": [
       "[<matplotlib.lines.Line2D at 0x2c44bd61240>]"
      ]
     },
     "execution_count": 181,
     "metadata": {},
     "output_type": "execute_result"
    },
    {
     "data": {
      "image/png": "[encoded data removed]",
      "text/plain": [
       "<Figure size 432x288 with 1 Axes>"
      ]
     },
     "metadata": {
      "needs_background": "light"
     },
     "output_type": "display_data"
    }
   ],
   "source": [
    "plt.plot(errs_xor)"
   ]
  },
  {
   "cell_type": "code",
   "execution_count": 182,
   "metadata": {},
   "outputs": [
    {
     "name": "stdout",
     "output_type": "stream",
     "text": [
      "[[0.9699638161913268], [0.04372064874053184]]\n",
      "[[0.9699638161913268], [0.9590727492993009]]\n",
      "[[0.9699638161913268], [0.9508191804264509]]\n",
      "[[0.9699638161913268], [0.03849385825652984]]\n"
     ]
    }
   ],
   "source": [
    "print(xor_net.stepn([0,0], 2))\n",
    "print(xor_net.stepn([0,1], 2))\n",
    "print(xor_net.stepn([1,0], 2))\n",
    "print(xor_net.stepn([1,1], 2))"
   ]
  },
  {
   "cell_type": "code",
   "execution_count": 336,
   "metadata": {},
   "outputs": [],
   "source": [
    "# Simple recurrent\n",
    "rec = GraphNet(3)\n",
    "rec.connect(0,1)\n",
    "rec.connect(1,1)\n",
    "rec.activation(1, 'tanh')\n",
    "rec.connect(1,2)\n",
    "rec.activation(2, 'sigmoid')\n",
    "rec.init_random()"
   ]
  },
  {
   "cell_type": "code",
   "execution_count": 342,
   "metadata": {},
   "outputs": [
    {
     "data": {
      "text/plain": [
       "[<matplotlib.lines.Line2D at 0x2c45397e240>]"
      ]
     },
     "execution_count": 342,
     "metadata": {},
     "output_type": "execute_result"
    },
    {
     "data": {
      "image/png": "[encoded data removed]",
      "text/plain": [
       "<Figure size 432x288 with 1 Axes>"
      ]
     },
     "metadata": {
      "needs_background": "light"
     },
     "output_type": "display_data"
    }
   ],
   "source": [
    "plt.plot(rec.stepn([1], 20))"
   ]
  },
  {
   "cell_type": "code",
   "execution_count": 341,
   "metadata": {},
   "outputs": [
    {
     "name": "stdout",
     "output_type": "stream",
     "text": [
      "[[-0.          0.         -0.        ]\n",
      " [-0.06339895 -1.49287689 -0.        ]\n",
      " [-0.          0.9874735   0.        ]]\n"
     ]
    },
    {
     "data": {
      "text/plain": [
       "[<matplotlib.lines.Line2D at 0x2c453a258d0>]"
      ]
     },
     "execution_count": 341,
     "metadata": {},
     "output_type": "execute_result"
    },
    {
     "data": {
      "image/png": "[encoded data removed]",
      "text/plain": [
       "<Figure size 432x288 with 1 Axes>"
      ]
     },
     "metadata": {
      "needs_background": "light"
     },
     "output_type": "display_data"
    }
   ],
   "source": [
    "# This clearly still has bugs\n",
    "plt.plot(rec.train([[[1]]], [[[0.5*(-1)**i] for i in range(12)]], delay=2, learning_rate=0.1, epochs=10000, verbose=True))"
   ]
  },
  {
   "cell_type": "code",
   "execution_count": 121,
   "metadata": {},
   "outputs": [],
   "source": [
    "bpcheck = GraphNet(8)\n",
    "bpcheck.define_input([0,1])\n",
    "bpcheck.define_output([6,7])\n",
    "bpcheck.connect(0,2)\n",
    "bpcheck.connect(1,2)\n",
    "bpcheck.connect_loop([2,3,4,5])\n",
    "bpcheck.connect(4,6)\n",
    "bpcheck.connect(4,7)\n",
    "bpcheck.init_uniform()\n",
    "# Square loop with two inputs and outputs"
   ]
  },
  {
   "cell_type": "code",
   "execution_count": 146,
   "metadata": {},
   "outputs": [
    {
     "data": {
      "text/plain": [
       "[[0.0, 0.0],\n",
       " [0.0, 0.0],\n",
       " [0.0, 0.0],\n",
       " [0.9961198866675833, 0.9961198866675833],\n",
       " [0.0, 0.0],\n",
       " [0.0, 0.0],\n",
       " [0.0, 0.0],\n",
       " [0.5038888752480244, 0.5038888752480244],\n",
       " [0.0, 0.0],\n",
       " [0.0, 0.0],\n",
       " [0.0, 0.0],\n",
       " [0.25489301237437273, 0.25489301237437273]]"
      ]
     },
     "execution_count": 146,
     "metadata": {},
     "output_type": "execute_result"
    }
   ],
   "source": [
    "# Make sure regular stepping works\n",
    "#print(bpcheck.step([0,1]))\n",
    "#print(bpcheck.step([0,0]))\n",
    "#print(bpcheck.step([0,0]))\n",
    "#print(bpcheck.step([0,0]))\n",
    "# Make sure multiple stepping works\n",
    "bpcheck.reset_state()\n",
    "bpcheck.stepn([0,1], 12)\n"
   ]
  },
  {
   "cell_type": "code",
   "execution_count": 143,
   "metadata": {},
   "outputs": [
    {
     "name": "stdout",
     "output_type": "stream",
     "text": [
      "[[-0.00388011 -0.00388011]\n",
      " [ 0.          0.        ]\n",
      " [ 0.          0.        ]\n",
      " [ 0.          0.        ]\n",
      " [ 0.00388888  0.00388888]]\n"
     ]
    }
   ],
   "source": [
    "# Make sure the sequence error is correct (MSE)\n",
    "# Delay = 4 because it takes 4 steps to get from the inputs to outputs in this case\n",
    "error_seq = bpcheck.error_sequence([[0,1]], [[1,1], [0,0], [0,0], [0,0], [0.5,0.5]], delay=4)\n",
    "print(error_seq)"
   ]
  },
  {
   "cell_type": "code",
   "execution_count": 144,
   "metadata": {},
   "outputs": [
    {
     "data": {
      "text/plain": [
       "array([7.67711651e-11, 7.67711651e-11])"
      ]
     },
     "execution_count": 144,
     "metadata": {},
     "output_type": "execute_result"
    }
   ],
   "source": [
    "# This is the sequence of errors in each output, so it's 2D.\n",
    "# To get the total error for each ouput, sum over columns:\n",
    "# Then square to get the SSE for each output\n",
    "np.sum(np.asarray(error_seq), axis=0)**2"
   ]
  },
  {
   "cell_type": "code",
   "execution_count": 142,
   "metadata": {},
   "outputs": [
    {
     "data": {
      "text/plain": [
       "array([[ 0.        ,  0.        ,  0.        ,  0.        ,  0.        ,\n",
       "         0.        ,  0.        ,  0.        ],\n",
       "       [ 0.        ,  0.        ,  0.        ,  0.        ,  0.        ,\n",
       "         0.        ,  0.        ,  0.        ],\n",
       "       [ 0.        , -0.00341736,  0.        ,  0.        ,  0.        ,\n",
       "         0.00506034,  0.        ,  0.        ],\n",
       "       [ 0.        ,  0.        ,  0.00011774,  0.        ,  0.        ,\n",
       "         0.        ,  0.        ,  0.        ],\n",
       "       [ 0.        ,  0.        ,  0.        ,  0.00011774,  0.        ,\n",
       "         0.        ,  0.        ,  0.        ],\n",
       "       [ 0.        ,  0.        ,  0.        ,  0.        ,  0.00506034,\n",
       "         0.        ,  0.        ,  0.        ],\n",
       "       [ 0.        ,  0.        ,  0.        ,  0.        , -0.00179908,\n",
       "         0.        ,  0.        ,  0.        ],\n",
       "       [ 0.        ,  0.        ,  0.        ,  0.        , -0.00179908,\n",
       "         0.        ,  0.        ,  0.        ]])"
      ]
     },
     "execution_count": 142,
     "metadata": {},
     "output_type": "execute_result"
    }
   ],
   "source": [
    "bpcheck.backprop([[0,1]], [[1,1], [0,0], [0,0], [0,0], [0.5,0.5]], delay=4)"
   ]
  },
  {
   "cell_type": "code",
   "execution_count": 140,
   "metadata": {},
   "outputs": [
    {
     "name": "stdout",
     "output_type": "stream",
     "text": [
      "[[0.         0.         0.         0.         0.         0.\n",
      "  0.         0.        ]\n",
      " [0.         0.         0.         0.         0.         0.\n",
      "  0.         0.        ]\n",
      " [1.         1.11518786 0.         0.         0.         0.77447811\n",
      "  0.         0.        ]\n",
      " [0.         0.         0.91833774 0.         0.         0.\n",
      "  0.         0.        ]\n",
      " [0.         0.         0.         0.91833774 0.         0.\n",
      "  0.         0.        ]\n",
      " [0.         0.         0.         0.         0.77447811 0.\n",
      "  0.         0.        ]\n",
      " [0.         0.         0.         0.         1.05915302 0.\n",
      "  0.         0.        ]\n",
      " [0.         0.         0.         0.         1.05915302 0.\n",
      "  0.         0.        ]]\n"
     ]
    }
   ],
   "source": [
    "train_x = [[[0,1]]]\n",
    "train_y = [[[1,1], [0,0], [0,0], [0,0], [0.5,0.5]]]\n",
    "errs_bpc = bpcheck.train(train_x, train_y, delay=4, epochs=100, learning_rate=0.01, verbose=True)"
   ]
  },
  {
   "cell_type": "code",
   "execution_count": 141,
   "metadata": {},
   "outputs": [
    {
     "data": {
      "text/plain": [
       "[<matplotlib.lines.Line2D at 0x27497800208>,\n",
       " <matplotlib.lines.Line2D at 0x27497800358>]"
      ]
     },
     "execution_count": 141,
     "metadata": {},
     "output_type": "execute_result"
    },
    {
     "data": {
      "image/png": "[encoded data removed]",
      "text/plain": [
       "<Figure size 432x288 with 1 Axes>"
      ]
     },
     "metadata": {
      "needs_background": "light"
     },
     "output_type": "display_data"
    }
   ],
   "source": [
    "plt.plot(errs_bpc)"
   ]
  },
  {
   "cell_type": "code",
   "execution_count": null,
   "metadata": {},
   "outputs": [],
   "source": []
  },
  {
   "cell_type": "code",
   "execution_count": null,
   "metadata": {},
   "outputs": [],
   "source": []
  }
 ],
 "metadata": {
  "kernelspec": {
   "display_name": "Python 3",
   "language": "python",
   "name": "python3"
  },
  "language_info": {
   "codemirror_mode": {
    "name": "ipython",
    "version": 3
   },
   "file_extension": ".py",
   "mimetype": "text/x-python",
   "name": "python",
   "nbconvert_exporter": "python",
   "pygments_lexer": "ipython3",
   "version": "3.7.3"
  }
 },
 "nbformat": 4,
 "nbformat_minor": 2
}
