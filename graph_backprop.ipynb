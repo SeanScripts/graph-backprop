{
 "cells": [
  {
   "cell_type": "code",
   "execution_count": 1,
   "metadata": {},
   "outputs": [],
   "source": [
    "import math\n",
    "import random\n",
    "import numpy as np\n",
    "import matplotlib.pyplot as plt\n",
    "\n",
    "%matplotlib inline"
   ]
  },
  {
   "cell_type": "code",
   "execution_count": 40,
   "metadata": {},
   "outputs": [
    {
     "data": {
      "text/plain": [
       "array([ nan, 0.76])"
      ]
     },
     "execution_count": 40,
     "metadata": {},
     "output_type": "execute_result"
    }
   ],
   "source": [
    "M = np.array([0, 1])\n",
    "V = np.array([np.NaN, 0.76])\n",
    "Y = np.array([0, 0])\n",
    "# Y = M * V\n",
    "# Y[M == 1] = V[M == 1]\n",
    "M * np.nan_to_num(V)"
   ]
  },
  {
   "cell_type": "code",
   "execution_count": 132,
   "metadata": {},
   "outputs": [],
   "source": [
    "class GraphNet:\n",
    "    # Make an empty graph on n nodes with linear activation\n",
    "    def __init__(self, n):\n",
    "        self.size = n\n",
    "        self.adj = np.zeros((n, n))\n",
    "        self.weights = np.zeros((n, n))\n",
    "        self.act = np.asarray(['linear' for i in range(self.size)])\n",
    "        self.input_nodes = np.asarray([0]) # Default\n",
    "        self.output_nodes = np.asarray([n-1]) # Default\n",
    "        self.loss_function = 'SE' # Default squared error -- Other option will be 'CE', cross-entropy\n",
    "        #self.tempstates = [np.zeros(self.size)] # Needs to be dynamically resized\n",
    "        #self.states = [np.zeros(self.size)] # Needs to be dynamically resized\n",
    "        #self.mode = 'overwrite'\n",
    "        #self.time = 0\n",
    "    \n",
    "    # Options are 'SE' and 'CE'\n",
    "    # 'CE' should only be used for binary outputs\n",
    "    def set_loss_function(self, lf):\n",
    "        self.loss_function = lf\n",
    "    \n",
    "    # Sets the mode for the step method\n",
    "    # Options: overwrite, add\n",
    "    def mode(self, m):\n",
    "        self.mode = m\n",
    "    \n",
    "    # Connect an edge from node i to node j\n",
    "    def connect(self, i, j):\n",
    "        self.adj[i,j] = 1\n",
    "    \n",
    "    # Connect a list of nodes in a sequential loop\n",
    "    def connect_loop(self, v):\n",
    "        for i in range(len(v)):\n",
    "            self.adj[v[i], v[(i+1)%len(v)]] = 1\n",
    "    \n",
    "    # Connect in a clique, other than self-connections\n",
    "    def connect_complete(self, v):\n",
    "        for i in range(len(v)):\n",
    "            for j in range(len(v)):\n",
    "                if i == j:\n",
    "                    continue\n",
    "                self.adj[v[i], v[j]] = 1\n",
    "    \n",
    "    # Change activation on node i\n",
    "    # Options: linear, relu, sigmoid/logistic, tanh\n",
    "    def activation(self, i, f):\n",
    "        self.act[i] = f\n",
    "    \n",
    "    # Change activations on a list of nodes\n",
    "    def activations(self, v, f):\n",
    "        for i in range(len(v)):\n",
    "            self.act[v[i]] = f\n",
    "    \n",
    "    # Get the list of node indices for inputs to node i\n",
    "    def inputs(self, i):\n",
    "        return np.nonzero(self.adj[:,i])[0] # Returns a tuple even on a 1D array\n",
    "    \n",
    "    # Get the list of node indices for outputs from node i\n",
    "    def outputs(self, i):\n",
    "        return np.nonzero(self.adj[i,:])[0] # Returns a tuple even on a 1D array\n",
    "    \n",
    "    # Reset weights\n",
    "    def reset_weights(self):\n",
    "        self.weights = np.copy(self.adj)\n",
    "        self.reset_state() # No reason to save the state if the weights were reset.\n",
    "    \n",
    "    # Initialize random edge weights, assuming edge weights are all 0 or 1\n",
    "    def init_random(self):\n",
    "        self.weights = np.random.normal(size=(self.size, self.size)) * self.adj\n",
    "    \n",
    "    # Normalize rows to satisfy Markov state transition rules\n",
    "    def init_markov(self):\n",
    "        self.weights = np.random.random((self.size, self.size)) * self.adj\n",
    "        rowsums = np.sum(self.weights, axis=1, keepdims=True)\n",
    "        rowsums[rowsums == 0] = 1 # Prevent division by zero when normalizing the columns\n",
    "        self.weights = self.weights/rowsums\n",
    "    \n",
    "    def init_uniform(self):\n",
    "        self.weights = np.copy(self.adj)\n",
    "    \n",
    "    # Make the vector of indices be the input nodes\n",
    "    def define_input(self, v):\n",
    "        self.input_nodes = v\n",
    "    \n",
    "    # Make the vector of indices be the output nodes\n",
    "    def define_output(self, v):\n",
    "        self.output_nodes = v\n",
    "        \n",
    "    # numpy activation functions\n",
    "    # could be static, but meh\n",
    "    def relu(self, x):\n",
    "        return x * (x > 0)\n",
    "    \n",
    "    def sigmoid(self, x):\n",
    "        return 1.0/(1.0+np.exp(-x))\n",
    "    \n",
    "    def tanh(self, x):\n",
    "        return (np.exp(2*x) - 1)/(np.exp(2*x) + 1)\n",
    "    \n",
    "    # TODO: Redesign the steps so that multiple steps are done and the array of states is optionally returned,\n",
    "    # so that it doesn't modify the state variable every time it runs the network.\n",
    "    # This will allow for greater thread concurrency.\n",
    "    \n",
    "    # Combine all the old step functions\n",
    "    # Length of the output is n+1 because of the initial state of 0\n",
    "    def step(self, input_vals, n, weights = None):\n",
    "        temp_weights = self.weights\n",
    "        if weights is not None:\n",
    "            temp_weights = weights\n",
    "        x_states = [np.zeros(self.size)]\n",
    "        z_states = [np.zeros(self.size)]\n",
    "        input_vals = np.array(input_vals)\n",
    "        \n",
    "        for t in range(n):\n",
    "            input_state = np.zeros(self.size)\n",
    "            if input_vals.ndim == 1 and t == 0:\n",
    "                # Single value input\n",
    "                input_state[self.input_nodes] = input_vals\n",
    "            elif input_vals.ndim == 2:\n",
    "                # Sequence input\n",
    "                if t < input_vals.shape[0]:\n",
    "                    input_state[self.input_nodes] = input_vals[t]\n",
    "\n",
    "            # Bias neurons need to be activated before the step\n",
    "            input_state[self.act == 'bias'] = 1\n",
    "            \n",
    "            # This feels like it could be really bad.\n",
    "            # This makes it *absolutely mandatory* that there are no connections feeding into the input neurons.\n",
    "            z_states[-1] += input_state\n",
    "\n",
    "            # Activation functions are not run on the input nodes prior to entering the network.\n",
    "            # Preprocessing should take care of that anyway.\n",
    "            # So the inputs are considered the z state for their respective neurons.\n",
    "            # The x states on those neurons are all zero, but it doesn't really matter, \n",
    "            # since they can't come up in the backprop anyway.\n",
    "            \n",
    "            # Weighted sum of inputs (always adding the input state in)\n",
    "            new_x_state = z_states[-1] @ temp_weights\n",
    "            \n",
    "            # Apply activation functions to update the state (temporary states are stored for backprop)\n",
    "            new_z_state = np.copy(new_x_state)\n",
    "\n",
    "            # Applying activation functions in separate sets for each neuron that has a given one\n",
    "            new_z_state[self.act == 'relu'] = self.relu(new_z_state[self.act == 'relu'])\n",
    "            # This is kind of dumb, but initializing with 'linear' means numpy will cut off the string 'sigmoid'\n",
    "            new_z_state[self.act == 'sigma'] = self.sigmoid(new_z_state[self.act == 'sigma']) \n",
    "            new_z_state[self.act == 'tanh'] = self.tanh(new_z_state[self.act == 'tanh'])\n",
    "            \n",
    "            x_states.append(new_x_state)\n",
    "            z_states.append(new_z_state)\n",
    "        return np.array(x_states), np.array(z_states)\n",
    "    \n",
    "    # Simple function to get cleaner output\n",
    "    def get_output(self, input_vals, n_steps, seq_len=1):\n",
    "        x, z = self.step(input_vals, n_steps)\n",
    "        return z[-seq_len:][:, self.output_nodes]\n",
    "    \n",
    "    # Combine all the old error functions (for MSE)\n",
    "    # Error calculation must be separate for backprop, because we don't want to run through the steps multiple times.\n",
    "    # So this is just for model evaluation (for a particular training example)\n",
    "    def get_loss(self, input_sequence, label_sequence, delay, weights=None):\n",
    "        using_weights = False\n",
    "        temp_weights = None\n",
    "        if weights is not None:\n",
    "            using_weights = True\n",
    "            temp_weights = weights\n",
    "        seq_len = 1\n",
    "        steps = delay\n",
    "        label_sequence = np.array(label_sequence)\n",
    "        if label_sequence.ndim == 2:\n",
    "            seq_len = label_sequence.shape[0]\n",
    "            steps = delay + seq_len - 1\n",
    "        x_states, z_states = self.step(input_sequence, steps, temp_weights if using_weights else None)\n",
    "        outputs = z_states[-seq_len:, self.output_nodes]\n",
    "        if self.loss_function == 'SE':\n",
    "            # Squared error\n",
    "            error = np.sum(np.subtract(outputs, label_sequence)**2)\n",
    "            return 0.5*error # 1/2 sum (z-y)^2\n",
    "        else:\n",
    "            # Binary cross-entropy\n",
    "            crossentropy = -np.sum(label_sequence * np.log(outputs) + (1 - label_sequence) * np.log(1 - outputs))\n",
    "            return crossentropy\n",
    "    \n",
    "    def derivative_relu(self, x):\n",
    "        return 1 * (x > 0)\n",
    "    \n",
    "    # Note that this uses Z instead of X\n",
    "    def derivative_sigmoid(self, z):\n",
    "        return z * (1 - z)\n",
    "    \n",
    "    def derivative_tanh(self, x):\n",
    "        return 4/(np.exp(x) + np.exp(-x))**2\n",
    "    \n",
    "    def derivative_activation(self, X, Z, t):\n",
    "        V = np.ones(self.size)\n",
    "        #V[self.act == 'linear'] = 1\n",
    "        V[self.act == 'bias'] = 0\n",
    "        V[self.act == 'relu'] = self.derivative_relu(X[t][self.act == 'relu'])\n",
    "        V[self.act == 'sigma'] = self.derivative_sigmoid(Z[t][self.act == 'sigma']) \n",
    "        V[self.act == 'tanh'] = self.derivative_tanh(X[t][self.act == 'tanh'])\n",
    "        return V\n",
    "    \n",
    "    def backprop(self, input_sequence, label_sequence, delay, debug=False, weights=None):\n",
    "        # Calculate the required number of steps using the delay and the length of the label sequence\n",
    "        # If the label sequence is not two-dimensional, then it's just a single output value\n",
    "        using_weights = False\n",
    "        if weights is not None:\n",
    "            using_weights = True\n",
    "        seq_len = 1\n",
    "        steps = delay\n",
    "        label_sequence = np.array(label_sequence)\n",
    "        if label_sequence.ndim == 2:\n",
    "            seq_len = label_sequence.shape[0]\n",
    "            steps = delay + seq_len - 1\n",
    "        # Outputs at each time step before and after applying activation functions\n",
    "        X, Z = self.step(input_sequence, steps)\n",
    "        # Output labels\n",
    "        Y = np.zeros((seq_len, self.size))\n",
    "        Y[:, self.output_nodes] = label_sequence\n",
    "        # X and Z are steps x size\n",
    "        # Y is seq_len x size\n",
    "        # Square error\n",
    "        E = np.sum((Z[-seq_len:, self.output_nodes] - label_sequence)**2)\n",
    "        # Masking values\n",
    "        M = np.zeros(self.size)\n",
    "        M[self.output_nodes] = 1\n",
    "        # Alias to make things easier to keep track of...\n",
    "        W = self.weights if not using_weights else weights\n",
    "        #if debug:\n",
    "        #    print('W', '\\n'+str(W))\n",
    "        # Going to be dividing by weights, but throw them out entirely if they are zero\n",
    "        # Turns out the bug was that the values are uninitialized when the where argument is used.\n",
    "        # Easy enough to fix. I still think it's weird that the result depended on whether the array was printed or not.\n",
    "        W_recip = np.zeros_like(W)\n",
    "        np.reciprocal(W, out=W_recip, where=(W != 0))\n",
    "        if debug:\n",
    "            print('W recip', '\\n'+str(W_recip))\n",
    "        # Time delay\n",
    "        T = delay\n",
    "        # Column of 1s to perform broadcasting before a dot product\n",
    "        C = np.ones((self.size, 1))\n",
    "        # The gradient for each weight in the adjacency matrix\n",
    "        D = np.zeros((self.size, self.size))\n",
    "        for S in range(0, seq_len):\n",
    "            # Path concatenation matrix: Weights times activations (applied to X, at various time steps)\n",
    "            B_final = W * self.derivative_activation(X, Z, T+S)\n",
    "            if debug:\n",
    "                print('B at', T+S, '\\n'+str(B_final))\n",
    "            # First order term is relatively simple\n",
    "            # Output factor needs to only be calculated for places it should be, otherwise it can end up as nan\n",
    "            output_factor = np.zeros((1, self.size))\n",
    "            output_factor[:, self.output_nodes] = Z[(T+S):(T+S+1),self.output_nodes] - Y[S:(S+1),self.output_nodes] if self.loss_function == 'SE' else -Y[S:(S+1),self.output_nodes]/Z[(T+S):(T+S+1),self.output_nodes] + (1 - Y[S:(S+1),self.output_nodes])/(1 - Z[(T+S):(T+S+1),self.output_nodes])\n",
    "            if debug:\n",
    "                print('output factor','\\n'+str(output_factor)) \n",
    "            # output_factor now contains M anyway, so the factor of M was taken out of here\n",
    "            first_order = Z[(T+S-1):(T+S)].T * W_recip * output_factor * B_final\n",
    "            if debug:\n",
    "                print('first order', '\\n'+str(first_order))\n",
    "            D += first_order\n",
    "            B_prod = B_final.copy()\n",
    "            for N in range(1, T+S):\n",
    "                # Pre-multiply by the previous time's path concatenation matrix\n",
    "                B_prev = W * self.derivative_activation(X, Z, T+S-N)\n",
    "                if debug:\n",
    "                    print('B at', T+S-N, '\\n'+str(B_prev))\n",
    "                # Calculate the next order, lining up the matrix product to get a sum over outputs\n",
    "                # Again, factor of M was taken out because output_factor already has it\n",
    "                next_order = Z[(T+S-N-1):(T+S-N)].T * W_recip * B_prev * ((C @ output_factor) @ B_prod.T)\n",
    "                if debug:\n",
    "                    print('next order', '\\n'+str(next_order))\n",
    "                D += next_order\n",
    "                B_prod = B_prev @ B_prod\n",
    "                if debug:\n",
    "                    print('B_prod', '\\n'+str(B_prod))\n",
    "        # This gradient is calculated for one training example over enough time steps to reach time zero\n",
    "        if debug:\n",
    "            print('D', '\\n'+str(D))\n",
    "        return D, E\n",
    "    \n",
    "    # Example to make sure this makes sense\n",
    "    # T = 1, seq_len = 1\n",
    "    # S = 0, B_1 first\n",
    "    # Z[0:1].T / W * (Z[1:2] - Y[0:1]) * M * B_1\n",
    "    # N loop doesn't activate\n",
    "    #\n",
    "    # T = 2, seq_len = 1\n",
    "    # S = 0, B_2 first\n",
    "    # Z[1:2].T / W * (Z[2:3] - Y[0:1]) * M * B_2\n",
    "    # Z[0:1].T / W * (C @ ((Z[2:3] - Y[0:1]) * M) @ (B_1 @ B2).T)\n",
    "    \n",
    "    # Manually check to see if the gradients line up with what the backprop function gives\n",
    "    def gradient_check(self, input_sequence, label_sequence, delay, epsilon):\n",
    "        backprop_gradient = self.backprop(input_sequence, label_sequence, delay)[0]\n",
    "        manual_gradient = np.zeros((self.size, self.size))\n",
    "        base_err = self.get_loss(input_sequence, label_sequence, delay)\n",
    "        for i in range(self.size):\n",
    "            for j in range(self.size):\n",
    "                if self.weights[i, j] == 0:\n",
    "                    continue\n",
    "                dw = np.zeros((self.size, self.size))\n",
    "                dw[i, j] = epsilon\n",
    "                grad = (self.get_loss(input_sequence, label_sequence, delay, self.weights + dw) - base_err)/epsilon\n",
    "                manual_gradient[i, j] = grad\n",
    "        print('Backprop-calculated gradient:')\n",
    "        print(backprop_gradient)\n",
    "        print('Manually-calculated gradient:')\n",
    "        print(manual_gradient)\n",
    "        print('Difference:')\n",
    "        print(backprop_gradient-manual_gradient)\n",
    "    \n",
    "    # Uses the whole dataset as the batches\n",
    "    def train(self, train_x, train_y, delay, epochs, learning_rate, accelerated=False, momentum=0.9):\n",
    "        errors = []\n",
    "        prev_delta_weights = np.zeros((self.size, self.size))\n",
    "        for ep in range(epochs):\n",
    "            avg_D = np.zeros((self.size, self.size))\n",
    "            avg_E = 0\n",
    "            for k in range(len(train_x)):\n",
    "                temp_weights = None\n",
    "                if accelerated:\n",
    "                    temp_weights = self.weights - momentum * prev_delta_weights\n",
    "                D, E = self.backprop(train_x[k], train_y[k], delay, weights=temp_weights)\n",
    "                avg_D += D\n",
    "                avg_E += E\n",
    "            avg_D /= len(train_x)\n",
    "            avg_E /= len(train_x)\n",
    "            #print(avg_D)\n",
    "            #print(avg_E)\n",
    "            if accelerated:\n",
    "                delta_weights = momentum * prev_delta_weights + learning_rate * avg_D\n",
    "                self.weights += -delta_weights\n",
    "                prev_delta_weights = delta_weights\n",
    "            else:\n",
    "                self.weights += - learning_rate * avg_D\n",
    "            # Evaluate error to see how we're doing.\n",
    "            errors.append(avg_E)\n",
    "        print(self.weights)\n",
    "        return errors"
   ]
  },
  {
   "cell_type": "code",
   "execution_count": 133,
   "metadata": {},
   "outputs": [
    {
     "data": {
      "text/plain": [
       "array([[0., 1.],\n",
       "       [0., 0.]])"
      ]
     },
     "execution_count": 133,
     "metadata": {},
     "output_type": "execute_result"
    }
   ],
   "source": [
    "bintest = GraphNet(2)\n",
    "bintest.connect(0,1)\n",
    "bintest.set_loss_function('CE')\n",
    "bintest.activation(1, 'sigma')\n",
    "bintest.init_markov()\n",
    "bintest.weights"
   ]
  },
  {
   "cell_type": "code",
   "execution_count": 134,
   "metadata": {},
   "outputs": [
    {
     "data": {
      "text/plain": [
       "array([[0.73105858]])"
      ]
     },
     "execution_count": 134,
     "metadata": {},
     "output_type": "execute_result"
    }
   ],
   "source": [
    "bintest.get_output([1], 1)"
   ]
  },
  {
   "cell_type": "code",
   "execution_count": 135,
   "metadata": {},
   "outputs": [
    {
     "name": "stdout",
     "output_type": "stream",
     "text": [
      "Backprop-calculated gradient:\n",
      "[[ 0.         -0.26894142]\n",
      " [ 0.          0.        ]]\n",
      "Manually-calculated gradient:\n",
      "[[ 0.         -0.26894044]\n",
      " [ 0.          0.        ]]\n",
      "Difference:\n",
      "[[ 0.0000000e+00 -9.8305617e-07]\n",
      " [ 0.0000000e+00  0.0000000e+00]]\n"
     ]
    }
   ],
   "source": [
    "bintest.gradient_check([[1]], [[1]], 1, epsilon=0.00001)"
   ]
  },
  {
   "cell_type": "code",
   "execution_count": 120,
   "metadata": {},
   "outputs": [],
   "source": [
    "logtest = GraphNet(3)\n",
    "logtest.connect(0,2)\n",
    "logtest.connect(1,2)\n",
    "logtest.activation(2, 'sigma')\n",
    "logtest.activation(1, 'bias')\n",
    "logtest.set_loss_function('CE')\n",
    "logtest.init_random()"
   ]
  },
  {
   "cell_type": "code",
   "execution_count": 112,
   "metadata": {},
   "outputs": [],
   "source": [
    "class_0 = np.random.normal(loc=0, scale=0.6, size=(1000, 1))\n",
    "class_1 = np.random.normal(loc=2, scale=1.4, size=(1000, 1))\n",
    "data = np.concatenate((class_0, class_1))\n",
    "labels = np.concatenate((np.zeros((1000, 1)), np.ones((1000, 1))))"
   ]
  },
  {
   "cell_type": "code",
   "execution_count": 121,
   "metadata": {},
   "outputs": [
    {
     "name": "stdout",
     "output_type": "stream",
     "text": [
      "[[ 0.         0.         3.2956112]\n",
      " [-0.         0.        -2.3610941]\n",
      " [-0.         0.        -0.       ]]\n"
     ]
    },
    {
     "data": {
      "text/plain": [
       "[0.282552521295103,\n",
       " 0.2637960409312155,\n",
       " 0.23030393521088524,\n",
       " 0.19047245181430902,\n",
       " 0.1563106977139622,\n",
       " 0.13579271770316814,\n",
       " 0.1271986341902479,\n",
       " 0.12395111975840686,\n",
       " 0.12160129948930759,\n",
       " 0.11903965736576233,\n",
       " 0.11662702226477746,\n",
       " 0.11483368947572505,\n",
       " 0.11385367657729771,\n",
       " 0.11363741643054119,\n",
       " 0.11400380434249513,\n",
       " 0.1147300142706393,\n",
       " 0.11560500016787828,\n",
       " 0.11645504985028081,\n",
       " 0.11715247748625915,\n",
       " 0.11761568347330544]"
      ]
     },
     "execution_count": 121,
     "metadata": {},
     "output_type": "execute_result"
    }
   ],
   "source": [
    "# At least a little faster than the version without accelerated gradient descent, but still slow computationally\n",
    "logtest.train(data, labels, delay=1, epochs=20, learning_rate=0.5, accelerated=True)"
   ]
  },
  {
   "cell_type": "code",
   "execution_count": 3,
   "metadata": {},
   "outputs": [
    {
     "data": {
      "text/plain": [
       "array([[0., 1., 0.],\n",
       "       [0., 0., 1.],\n",
       "       [0., 0., 0.]])"
      ]
     },
     "execution_count": 3,
     "metadata": {},
     "output_type": "execute_result"
    }
   ],
   "source": [
    "test = GraphNet(3)\n",
    "test.connect(0,1)\n",
    "test.connect(1,2)\n",
    "test.activations([1,2], 'sigma')\n",
    "test.init_markov()\n",
    "test.weights"
   ]
  },
  {
   "cell_type": "code",
   "execution_count": 4,
   "metadata": {},
   "outputs": [],
   "source": [
    "test.weights *= 0.9"
   ]
  },
  {
   "cell_type": "code",
   "execution_count": 5,
   "metadata": {},
   "outputs": [],
   "source": [
    "x, z = test.step([1], 2)"
   ]
  },
  {
   "cell_type": "code",
   "execution_count": 6,
   "metadata": {},
   "outputs": [
    {
     "name": "stdout",
     "output_type": "stream",
     "text": [
      "[[0.         0.         0.        ]\n",
      " [0.         0.9        0.        ]\n",
      " [0.         0.         0.63985455]]\n",
      "[[1.         0.         0.        ]\n",
      " [0.         0.7109495  0.5       ]\n",
      " [0.         0.5        0.65472058]]\n"
     ]
    }
   ],
   "source": [
    "print(x)\n",
    "print(z)"
   ]
  },
  {
   "cell_type": "code",
   "execution_count": 7,
   "metadata": {},
   "outputs": [
    {
     "data": {
      "text/plain": [
       "(array([[ 0.        , -0.01443618,  0.        ],\n",
       "        [ 0.        ,  0.        , -0.05549274],\n",
       "        [ 0.        ,  0.        ,  0.        ]]), 0.11921787702676306)"
      ]
     },
     "execution_count": 7,
     "metadata": {},
     "output_type": "execute_result"
    }
   ],
   "source": [
    "test.backprop([[1]], [[1]], 2)"
   ]
  },
  {
   "cell_type": "code",
   "execution_count": 8,
   "metadata": {},
   "outputs": [
    {
     "name": "stdout",
     "output_type": "stream",
     "text": [
      "Backprop-calculated gradient:\n",
      "[[ 0.         -0.01443618  0.        ]\n",
      " [ 0.          0.         -0.05549274]\n",
      " [ 0.          0.          0.        ]]\n",
      "Manually-calculated gradient:\n",
      "[[ 0.         -0.01443618  0.        ]\n",
      " [ 0.          0.         -0.05549272]\n",
      " [ 0.          0.          0.        ]]\n",
      "Difference:\n",
      "[[ 0.00000000e+00 -4.35924800e-09  0.00000000e+00]\n",
      " [ 0.00000000e+00  0.00000000e+00 -1.90231157e-08]\n",
      " [ 0.00000000e+00  0.00000000e+00  0.00000000e+00]]\n"
     ]
    }
   ],
   "source": [
    "test.gradient_check([[1]], [[1]], 2, epsilon=0.000001)"
   ]
  },
  {
   "cell_type": "code",
   "execution_count": 9,
   "metadata": {},
   "outputs": [],
   "source": [
    "linear = GraphNet(3)\n",
    "linear.connect(0,2)\n",
    "linear.connect(1,2)\n",
    "linear.activation(1, 'bias')\n",
    "linear.define_input([0])\n",
    "linear.define_output([2])\n",
    "linear.init_markov() # Makes it really be slope and intercept 1 to begin"
   ]
  },
  {
   "cell_type": "code",
   "execution_count": 10,
   "metadata": {},
   "outputs": [
    {
     "data": {
      "text/plain": [
       "<matplotlib.collections.PathCollection at 0x140223a3400>"
      ]
     },
     "execution_count": 10,
     "metadata": {},
     "output_type": "execute_result"
    },
    {
     "data": {
      "image/png": "[encoded data removed]",
      "text/plain": [
       "<Figure size 432x288 with 1 Axes>"
      ]
     },
     "metadata": {
      "needs_background": "light"
     },
     "output_type": "display_data"
    }
   ],
   "source": [
    "scatter = 0.1\n",
    "slope = 0.5\n",
    "intercept = 2\n",
    "# Uniformly scattered points off a line\n",
    "train_lin_x = [[-5 + 0.1*i + scatter*(-1+2*random.random())] for i in range(100)]\n",
    "train_lin_y = [[intercept + slope*(-5+0.1*i) + scatter*(-1+2*random.random())] for i in range(100)]\n",
    "plt.scatter(train_lin_x, train_lin_y)"
   ]
  },
  {
   "cell_type": "code",
   "execution_count": 11,
   "metadata": {},
   "outputs": [
    {
     "data": {
      "text/plain": [
       "array([[1.]])"
      ]
     },
     "execution_count": 11,
     "metadata": {},
     "output_type": "execute_result"
    }
   ],
   "source": [
    "linear.get_output([0], 1)"
   ]
  },
  {
   "cell_type": "code",
   "execution_count": 12,
   "metadata": {},
   "outputs": [
    {
     "name": "stdout",
     "output_type": "stream",
     "text": [
      "[[0.         0.         0.5001095 ]\n",
      " [0.         0.         1.98903566]\n",
      " [0.         0.         0.        ]]\n"
     ]
    }
   ],
   "source": [
    "# Estimated slope and intercept are present in the weights of the trained network\n",
    "errs = linear.train(train_lin_x, train_lin_y, delay=1, epochs=100, learning_rate=0.1)"
   ]
  },
  {
   "cell_type": "code",
   "execution_count": 13,
   "metadata": {},
   "outputs": [
    {
     "data": {
      "text/plain": [
       "[<matplotlib.lines.Line2D at 0x140226950b8>]"
      ]
     },
     "execution_count": 13,
     "metadata": {},
     "output_type": "execute_result"
    },
    {
     "data": {
      "image/png": "[encoded data removed]",
      "text/plain": [
       "<Figure size 432x288 with 1 Axes>"
      ]
     },
     "metadata": {
      "needs_background": "light"
     },
     "output_type": "display_data"
    }
   ],
   "source": [
    "# Seems to work decently well\n",
    "plt.plot(errs)"
   ]
  },
  {
   "cell_type": "code",
   "execution_count": 14,
   "metadata": {},
   "outputs": [
    {
     "name": "stdout",
     "output_type": "stream",
     "text": [
      "Backprop-calculated gradient:\n",
      "[[ 0.          0.          0.271837  ]\n",
      " [ 0.          0.         -0.05490077]\n",
      " [ 0.          0.          0.        ]]\n",
      "Manually-calculated gradient:\n",
      "[[ 0.          0.          0.27184926]\n",
      " [ 0.          0.         -0.05490027]\n",
      " [ 0.          0.          0.        ]]\n",
      "Difference:\n",
      "[[ 0.00000000e+00  0.00000000e+00 -1.22583089e-05]\n",
      " [ 0.00000000e+00  0.00000000e+00 -5.00004597e-07]\n",
      " [ 0.00000000e+00  0.00000000e+00  0.00000000e+00]]\n"
     ]
    }
   ],
   "source": [
    "linear.gradient_check(train_lin_x[0], train_lin_y[0], delay=1, epsilon=0.000001)"
   ]
  },
  {
   "cell_type": "code",
   "execution_count": 145,
   "metadata": {},
   "outputs": [],
   "source": [
    "# Testing a regular NN as a graph\n",
    "xor_net = GraphNet(6)\n",
    "xor_net.define_input([0,1])\n",
    "xor_net.connect(0,3)\n",
    "xor_net.connect(0,4)\n",
    "xor_net.connect(1,3)\n",
    "xor_net.connect(1,4)\n",
    "xor_net.connect(2,3)\n",
    "xor_net.connect(2,4)\n",
    "xor_net.connect(2,5)\n",
    "xor_net.connect(3,5)\n",
    "xor_net.connect(4,5)\n",
    "xor_net.activation(2, 'bias')\n",
    "xor_net.activations([3,4,5], 'sigma')\n",
    "xor_net.init_random()"
   ]
  },
  {
   "cell_type": "code",
   "execution_count": 16,
   "metadata": {},
   "outputs": [
    {
     "name": "stdout",
     "output_type": "stream",
     "text": [
      "[[ 0.          0.         -0.          5.06013291 -3.86322932  0.        ]\n",
      " [-0.         -0.         -0.         -5.16692561  3.59482771 -0.        ]\n",
      " [-0.         -0.         -0.         -3.14425786 -1.98745604 -2.68042021]\n",
      " [-0.          0.          0.          0.         -0.          5.51608361]\n",
      " [-0.          0.          0.         -0.         -0.          5.42085205]\n",
      " [-0.         -0.          0.          0.          0.          0.        ]]\n"
     ]
    }
   ],
   "source": [
    "train_x = [[0,0], [0,1], [1,0], [1,1]]\n",
    "train_y = [[0], [1], [1], [0]]\n",
    "errs_xor = xor_net.train(train_x, train_y, delay=2, epochs=5000, learning_rate=0.5)"
   ]
  },
  {
   "cell_type": "code",
   "execution_count": 17,
   "metadata": {},
   "outputs": [
    {
     "data": {
      "text/plain": [
       "[<matplotlib.lines.Line2D at 0x14022712f60>]"
      ]
     },
     "execution_count": 17,
     "metadata": {},
     "output_type": "execute_result"
    },
    {
     "data": {
      "image/png": "[encoded data removed]",
      "text/plain": [
       "<Figure size 432x288 with 1 Axes>"
      ]
     },
     "metadata": {
      "needs_background": "light"
     },
     "output_type": "display_data"
    }
   ],
   "source": [
    "plt.plot(errs_xor)"
   ]
  },
  {
   "cell_type": "code",
   "execution_count": 146,
   "metadata": {},
   "outputs": [
    {
     "name": "stdout",
     "output_type": "stream",
     "text": [
      "[[ 0.          0.         -0.         -6.16814857  4.84210956  0.        ]\n",
      " [-0.          0.         -0.          6.19967277 -5.12386351 -0.        ]\n",
      " [ 0.          0.          0.         -3.54654842 -2.70140589 -3.73907307]\n",
      " [ 0.         -0.         -0.         -0.         -0.          7.45318735]\n",
      " [-0.          0.         -0.         -0.         -0.          7.71306033]\n",
      " [-0.          0.         -0.         -0.         -0.         -0.        ]]\n"
     ]
    },
    {
     "data": {
      "text/plain": [
       "[<matplotlib.lines.Line2D at 0x2fd3965e940>]"
      ]
     },
     "execution_count": 146,
     "metadata": {},
     "output_type": "execute_result"
    },
    {
     "data": {
      "image/png": "[encoded data removed]",
      "text/plain": [
       "<Figure size 432x288 with 1 Axes>"
      ]
     },
     "metadata": {
      "needs_background": "light"
     },
     "output_type": "display_data"
    }
   ],
   "source": [
    "# Since this takes like 5000 epochs, I wanted to try it with accelerated gradient descent to compare\n",
    "train_x = [[0,0], [0,1], [1,0], [1,1]]\n",
    "train_y = [[0], [1], [1], [0]]\n",
    "errs_xor = xor_net.train(train_x, train_y, delay=2, epochs=500, learning_rate=1, accelerated=True)\n",
    "plt.plot(errs_xor)\n",
    "# It trains in 1/10 the number of epochs, so great!"
   ]
  },
  {
   "cell_type": "code",
   "execution_count": 147,
   "metadata": {},
   "outputs": [
    {
     "name": "stdout",
     "output_type": "stream",
     "text": [
      "[[0.04542586]]\n",
      "[[0.96183042]]\n",
      "[[0.95941788]]\n",
      "[[0.04101035]]\n"
     ]
    }
   ],
   "source": [
    "print(xor_net.get_output([0,0], 2))\n",
    "print(xor_net.get_output([0,1], 2))\n",
    "print(xor_net.get_output([1,0], 2))\n",
    "print(xor_net.get_output([1,1], 2))"
   ]
  },
  {
   "cell_type": "code",
   "execution_count": 19,
   "metadata": {},
   "outputs": [
    {
     "name": "stdout",
     "output_type": "stream",
     "text": [
      "Backprop-calculated gradient:\n",
      "[[ 0.          0.          0.         -0.00343948  0.0060595   0.        ]\n",
      " [ 0.          0.          0.          0.00262133 -0.00607109  0.        ]\n",
      " [ 0.          0.          0.          0.00031637  0.00371128  0.00448841]\n",
      " [ 0.          0.          0.          0.          0.         -0.00738545]\n",
      " [ 0.          0.          0.          0.          0.         -0.01025068]\n",
      " [ 0.          0.          0.          0.          0.          0.        ]]\n",
      "Manually-calculated gradient:\n",
      "[[ 0.          0.          0.         -0.00343948  0.00605951  0.        ]\n",
      " [ 0.          0.          0.          0.00262133 -0.00607107  0.        ]\n",
      " [ 0.          0.          0.          0.00031638  0.0037113   0.00448846]\n",
      " [ 0.          0.          0.          0.          0.         -0.00738545]\n",
      " [ 0.          0.          0.          0.          0.         -0.01025067]\n",
      " [ 0.          0.          0.          0.          0.          0.        ]]\n",
      "Difference:\n",
      "[[ 0.00000000e+00  0.00000000e+00  0.00000000e+00 -7.06915511e-09\n",
      "  -4.80730830e-09  0.00000000e+00]\n",
      " [ 0.00000000e+00  0.00000000e+00  0.00000000e+00 -1.63876312e-09\n",
      "  -1.63176157e-08  0.00000000e+00]\n",
      " [ 0.00000000e+00  0.00000000e+00  0.00000000e+00 -9.44279003e-09\n",
      "  -2.45146741e-08 -4.57195418e-08]\n",
      " [ 0.00000000e+00  0.00000000e+00  0.00000000e+00  0.00000000e+00\n",
      "   0.00000000e+00 -6.35515791e-09]\n",
      " [ 0.00000000e+00  0.00000000e+00  0.00000000e+00  0.00000000e+00\n",
      "   0.00000000e+00 -9.27005170e-09]\n",
      " [ 0.00000000e+00  0.00000000e+00  0.00000000e+00  0.00000000e+00\n",
      "   0.00000000e+00  0.00000000e+00]]\n"
     ]
    }
   ],
   "source": [
    "xor_net.gradient_check(train_x, train_y, delay=2, epsilon=0.000001)"
   ]
  },
  {
   "cell_type": "code",
   "execution_count": 20,
   "metadata": {},
   "outputs": [],
   "source": [
    "bpcheck = GraphNet(8)\n",
    "bpcheck.define_input([0,1])\n",
    "bpcheck.define_output([6,7])\n",
    "bpcheck.connect(0,2)\n",
    "bpcheck.connect(1,2)\n",
    "bpcheck.connect_loop([2,3,4,5])\n",
    "bpcheck.connect(4,6)\n",
    "bpcheck.connect(4,7)\n",
    "#bpcheck.init_random()\n",
    "bpcheck.init_uniform()\n",
    "# Square loop with two inputs and outputs"
   ]
  },
  {
   "cell_type": "code",
   "execution_count": 21,
   "metadata": {},
   "outputs": [
    {
     "name": "stdout",
     "output_type": "stream",
     "text": [
      "[[1. 1.]\n",
      " [0. 0.]\n",
      " [0. 0.]\n",
      " [0. 0.]\n",
      " [1. 1.]]\n",
      "[[1. 1.]\n",
      " [0. 0.]\n",
      " [0. 0.]\n",
      " [0. 0.]\n",
      " [1. 1.]]\n"
     ]
    }
   ],
   "source": [
    "# Make sure regular stepping works\n",
    "#print(bpcheck.step([0,1]))\n",
    "#print(bpcheck.step([0,0]))\n",
    "#print(bpcheck.step([0,0]))\n",
    "#print(bpcheck.step([0,0]))\n",
    "# Make sure multiple stepping works\n",
    "#bpcheck.reset_state()\n",
    "print(bpcheck.get_output([0,1], 12, 5))\n",
    "print(bpcheck.get_output([1,0], 12, 5))\n",
    "# These are the same, as expected. Bug fixed."
   ]
  },
  {
   "cell_type": "code",
   "execution_count": 22,
   "metadata": {},
   "outputs": [
    {
     "name": "stdout",
     "output_type": "stream",
     "text": [
      "[[0.         0.         1.         0.         0.         0.\n",
      "  0.         0.        ]\n",
      " [0.         0.         1.11742165 0.         0.         0.\n",
      "  0.         0.        ]\n",
      " [0.         0.         0.         0.91886753 0.         0.\n",
      "  0.         0.        ]\n",
      " [0.         0.         0.         0.         0.91886753 0.\n",
      "  0.         0.        ]\n",
      " [0.         0.         0.         0.         0.         0.76954337\n",
      "  1.0599282  1.0599282 ]\n",
      " [0.         0.         0.76954337 0.         0.         0.\n",
      "  0.         0.        ]\n",
      " [0.         0.         0.         0.         0.         0.\n",
      "  0.         0.        ]\n",
      " [0.         0.         0.         0.         0.         0.\n",
      "  0.         0.        ]]\n"
     ]
    }
   ],
   "source": [
    "train_x = [[[0,1]]]\n",
    "train_y = [[[1,1], [0,0], [0,0], [0,0], [0.5,0.5]]]\n",
    "errs_bpc = bpcheck.train(train_x, train_y, delay=4, epochs=200, learning_rate=0.05)"
   ]
  },
  {
   "cell_type": "code",
   "execution_count": 23,
   "metadata": {},
   "outputs": [
    {
     "data": {
      "text/plain": [
       "[<matplotlib.lines.Line2D at 0x1402277a470>]"
      ]
     },
     "execution_count": 23,
     "metadata": {},
     "output_type": "execute_result"
    },
    {
     "data": {
      "image/png": "[encoded data removed]",
      "text/plain": [
       "<Figure size 432x288 with 1 Axes>"
      ]
     },
     "metadata": {
      "needs_background": "light"
     },
     "output_type": "display_data"
    }
   ],
   "source": [
    "plt.plot(errs_bpc)"
   ]
  },
  {
   "cell_type": "code",
   "execution_count": 24,
   "metadata": {},
   "outputs": [
    {
     "data": {
      "text/plain": [
       "array([[0.50000155, 0.50000155],\n",
       "       [0.        , 0.        ],\n",
       "       [0.        , 0.        ],\n",
       "       [0.        , 0.        ],\n",
       "       [0.25000193, 0.25000193]])"
      ]
     },
     "execution_count": 24,
     "metadata": {},
     "output_type": "execute_result"
    }
   ],
   "source": [
    "# Trained perfectly\n",
    "bpcheck.get_output([0,1], 12, 5)"
   ]
  },
  {
   "cell_type": "code",
   "execution_count": 25,
   "metadata": {},
   "outputs": [],
   "source": [
    "fc = GraphNet(7)\n",
    "fc.connect(0,1)\n",
    "fc.connect_complete([1,2,3,4,5])\n",
    "fc.connect(5,6)\n",
    "#fc.activation(6, 'sigma')\n",
    "fc.init_markov()"
   ]
  },
  {
   "cell_type": "code",
   "execution_count": 26,
   "metadata": {},
   "outputs": [
    {
     "data": {
      "text/plain": [
       "[<matplotlib.lines.Line2D at 0x140227d9898>]"
      ]
     },
     "execution_count": 26,
     "metadata": {},
     "output_type": "execute_result"
    },
    {
     "data": {
      "image/png": "[encoded data removed]",
      "text/plain": [
       "<Figure size 432x288 with 1 Axes>"
      ]
     },
     "metadata": {
      "needs_background": "light"
     },
     "output_type": "display_data"
    }
   ],
   "source": [
    "plt.plot(fc.get_output([1], 20, 20))"
   ]
  },
  {
   "cell_type": "code",
   "execution_count": 27,
   "metadata": {},
   "outputs": [
    {
     "data": {
      "text/plain": [
       "(array([[ 0.        , -0.04393084,  0.        ,  0.        ,  0.        ,\n",
       "          0.        ,  0.        ],\n",
       "        [ 0.        ,  0.        , -0.09128415, -0.09127294, -0.09122264,\n",
       "         -0.09219175,  0.        ],\n",
       "        [ 0.        , -0.05071242,  0.        , -0.05351786, -0.05291075,\n",
       "         -0.06516243,  0.        ],\n",
       "        [ 0.        , -0.06939477, -0.07258681,  0.        , -0.0717497 ,\n",
       "         -0.08580668,  0.        ],\n",
       "        [ 0.        , -0.07501129, -0.07868004, -0.0782708 ,  0.        ,\n",
       "         -0.09337181,  0.        ],\n",
       "        [ 0.        , -0.06726503, -0.07135794, -0.0711031 , -0.07034976,\n",
       "          0.        , -0.12378711],\n",
       "        [ 0.        ,  0.        ,  0.        ,  0.        ,  0.        ,\n",
       "          0.        ,  0.        ]]), 0.9100175704677823)"
      ]
     },
     "execution_count": 27,
     "metadata": {},
     "output_type": "execute_result"
    }
   ],
   "source": [
    "fc.backprop([[1]], [[1]], delay=10)"
   ]
  },
  {
   "cell_type": "code",
   "execution_count": 28,
   "metadata": {},
   "outputs": [
    {
     "name": "stdout",
     "output_type": "stream",
     "text": [
      "Backprop-calculated gradient:\n",
      "[[ 0.         -0.04393084  0.          0.          0.          0.\n",
      "   0.        ]\n",
      " [ 0.          0.         -0.09128415 -0.09127294 -0.09122264 -0.09219175\n",
      "   0.        ]\n",
      " [ 0.         -0.05071242  0.         -0.05351786 -0.05291075 -0.06516243\n",
      "   0.        ]\n",
      " [ 0.         -0.06939477 -0.07258681  0.         -0.0717497  -0.08580668\n",
      "   0.        ]\n",
      " [ 0.         -0.07501129 -0.07868004 -0.0782708   0.         -0.09337181\n",
      "   0.        ]\n",
      " [ 0.         -0.06726503 -0.07135794 -0.0711031  -0.07034976  0.\n",
      "  -0.12378711]\n",
      " [ 0.          0.          0.          0.          0.          0.\n",
      "   0.        ]]\n",
      "Manually-calculated gradient:\n",
      "[[ 0.         -0.04393083  0.          0.          0.          0.\n",
      "   0.        ]\n",
      " [ 0.          0.         -0.09128469 -0.09127351 -0.09122317 -0.09219242\n",
      "   0.        ]\n",
      " [ 0.         -0.05071256  0.         -0.05351803 -0.05291097 -0.06516267\n",
      "   0.        ]\n",
      " [ 0.         -0.06939511 -0.07258719  0.         -0.07175003 -0.08580714\n",
      "   0.        ]\n",
      " [ 0.         -0.07501167 -0.07868041 -0.07827121  0.         -0.09337244\n",
      "   0.        ]\n",
      " [ 0.         -0.06726523 -0.07135829 -0.07110344 -0.07035007  0.\n",
      "  -0.12378703]\n",
      " [ 0.          0.          0.          0.          0.          0.\n",
      "   0.        ]]\n",
      "Difference:\n",
      "[[ 0.00000000e+00 -1.06026519e-08  0.00000000e+00  0.00000000e+00\n",
      "   0.00000000e+00  0.00000000e+00  0.00000000e+00]\n",
      " [ 0.00000000e+00  0.00000000e+00  5.42111832e-07  5.70974072e-07\n",
      "   5.30032959e-07  6.77389178e-07  0.00000000e+00]\n",
      " [ 0.00000000e+00  1.41461429e-07  0.00000000e+00  1.76985218e-07\n",
      "   2.19000829e-07  2.45300262e-07  0.00000000e+00]\n",
      " [ 0.00000000e+00  3.42242524e-07  3.78055447e-07  0.00000000e+00\n",
      "   3.30202666e-07  4.58883523e-07  0.00000000e+00]\n",
      " [ 0.00000000e+00  3.85220038e-07  3.69439179e-07  4.07252211e-07\n",
      "   0.00000000e+00  6.36522240e-07  0.00000000e+00]\n",
      " [ 0.00000000e+00  2.04866916e-07  3.47989881e-07  3.39725891e-07\n",
      "   3.08583149e-07  0.00000000e+00 -8.41926094e-08]\n",
      " [ 0.00000000e+00  0.00000000e+00  0.00000000e+00  0.00000000e+00\n",
      "   0.00000000e+00  0.00000000e+00  0.00000000e+00]]\n"
     ]
    }
   ],
   "source": [
    "fc.gradient_check([[1]], [[1]], delay=10, epsilon=0.00001)"
   ]
  },
  {
   "cell_type": "code",
   "execution_count": null,
   "metadata": {},
   "outputs": [],
   "source": []
  }
 ],
 "metadata": {
  "kernelspec": {
   "display_name": "Python 3",
   "language": "python",
   "name": "python3"
  },
  "language_info": {
   "codemirror_mode": {
    "name": "ipython",
    "version": 3
   },
   "file_extension": ".py",
   "mimetype": "text/x-python",
   "name": "python",
   "nbconvert_exporter": "python",
   "pygments_lexer": "ipython3",
   "version": "3.7.3"
  }
 },
 "nbformat": 4,
 "nbformat_minor": 2
}
