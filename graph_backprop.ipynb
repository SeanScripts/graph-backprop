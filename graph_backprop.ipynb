{
 "cells": [
  {
   "cell_type": "code",
   "execution_count": 1,
   "metadata": {},
   "outputs": [],
   "source": [
    "import math\n",
    "import random\n",
    "import numpy as np\n",
    "import matplotlib.pyplot as plt\n",
    "\n",
    "%matplotlib inline"
   ]
  },
  {
   "cell_type": "code",
   "execution_count": 137,
   "metadata": {},
   "outputs": [],
   "source": [
    "class GraphNet:\n",
    "    # Make an empty graph on n nodes with linear activation\n",
    "    def __init__(self, n):\n",
    "        self.size = n\n",
    "        self.adj = np.zeros((n, n))\n",
    "        self.weights = np.zeros((n, n))\n",
    "        self.act = np.asarray(['linear' for i in range(self.size)])\n",
    "        self.input_nodes = np.asarray([0]) # Default\n",
    "        self.output_nodes = np.asarray([n-1]) # Default\n",
    "        #self.tempstates = [np.zeros(self.size)] # Needs to be dynamically resized\n",
    "        #self.states = [np.zeros(self.size)] # Needs to be dynamically resized\n",
    "        #self.mode = 'overwrite'\n",
    "        #self.time = 0\n",
    "    \n",
    "    # Sets the mode for the step method\n",
    "    # Options: overwrite, add\n",
    "    def mode(self, m):\n",
    "        self.mode = m\n",
    "    \n",
    "    # Connect an edge from node i to node j\n",
    "    def connect(self, i, j):\n",
    "        self.adj[i,j] = 1\n",
    "    \n",
    "    # Connect a list of nodes in a sequential loop\n",
    "    def connect_loop(self, v):\n",
    "        for i in range(len(v)):\n",
    "            self.adj[v[i], v[(i+1)%len(v)]] = 1\n",
    "    \n",
    "    # Connect in a clique, other than self-connections\n",
    "    def connect_complete(self, v):\n",
    "        for i in range(len(v)):\n",
    "            for j in range(len(v)):\n",
    "                if i == j:\n",
    "                    continue\n",
    "                self.adj[v[i], v[j]] = 1\n",
    "    \n",
    "    # Change activation on node i\n",
    "    # Options: linear, relu, sigmoid/logistic, tanh\n",
    "    def activation(self, i, f):\n",
    "        self.act[i] = f\n",
    "    \n",
    "    # Change activations on a list of nodes\n",
    "    def activations(self, v, f):\n",
    "        for i in range(len(v)):\n",
    "            self.act[v[i]] = f\n",
    "    \n",
    "    # Get the list of node indices for inputs to node i\n",
    "    def inputs(self, i):\n",
    "        return np.nonzero(self.adj[:,i])[0] # Returns a tuple even on a 1D array\n",
    "    \n",
    "    # Get the list of node indices for outputs from node i\n",
    "    def outputs(self, i):\n",
    "        return np.nonzero(self.adj[i,:])[0] # Returns a tuple even on a 1D array\n",
    "    \n",
    "    # Reset weights\n",
    "    def reset_weights(self):\n",
    "        self.weights = np.copy(self.adj)\n",
    "        self.reset_state() # No reason to save the state if the weights were reset.\n",
    "    \n",
    "    # Initialize random edge weights, assuming edge weights are all 0 or 1\n",
    "    def init_random(self):\n",
    "        self.weights = np.random.normal(size=(self.size, self.size)) * self.adj\n",
    "    \n",
    "    # Normalize rows to satisfy Markov state transition rules\n",
    "    def init_markov(self):\n",
    "        self.weights = np.random.random((self.size, self.size)) * self.adj\n",
    "        rowsums = np.sum(self.weights, axis=1, keepdims=True)\n",
    "        rowsums[rowsums == 0] = 1 # Prevent division by zero when normalizing the columns\n",
    "        self.weights = self.weights/rowsums\n",
    "    \n",
    "    def init_uniform(self):\n",
    "        self.weights = np.copy(self.adj)\n",
    "    \n",
    "    # Make the vector of indices be the input nodes\n",
    "    def define_input(self, v):\n",
    "        self.input_nodes = v\n",
    "    \n",
    "    # Make the vector of indices be the output nodes\n",
    "    def define_output(self, v):\n",
    "        self.output_nodes = v\n",
    "        \n",
    "    # numpy activation functions\n",
    "    # could be static, but meh\n",
    "    def relu(self, x):\n",
    "        return x * (x > 0)\n",
    "    \n",
    "    def sigmoid(self, x):\n",
    "        return 1.0/(1.0+np.exp(-x))\n",
    "    \n",
    "    def tanh(self, x):\n",
    "        return (np.exp(2*x) - 1)/(np.exp(2*x) + 1)\n",
    "    \n",
    "    # TODO: Redesign the steps so that multiple steps are done and the array of states is optionally returned,\n",
    "    # so that it doesn't modify the state variable every time it runs the network.\n",
    "    # This will allow for greater thread concurrency.\n",
    "    \n",
    "    # Combine all the old step functions\n",
    "    # Length of the output is n+1 because of the initial state of 0\n",
    "    def step(self, input_vals, n, weights = None):\n",
    "        temp_weights = self.weights\n",
    "        if weights is not None:\n",
    "            temp_weights = weights\n",
    "        x_states = [np.zeros(self.size)]\n",
    "        z_states = [np.zeros(self.size)]\n",
    "        input_vals = np.array(input_vals)\n",
    "        \n",
    "        for t in range(n):\n",
    "            input_state = np.zeros(self.size)\n",
    "            if input_vals.ndim == 1 and t == 0:\n",
    "                # Single value input\n",
    "                input_state[self.input_nodes] = input_vals\n",
    "            elif input_vals.ndim == 2:\n",
    "                # Sequence input\n",
    "                if t < input_vals.shape[0]:\n",
    "                    input_state[self.input_nodes] = input_vals[t]\n",
    "\n",
    "            # Bias neurons need to be activated before the step\n",
    "            input_state[self.act == 'bias'] = 1\n",
    "            \n",
    "            # This feels like it could be really bad.\n",
    "            # This makes it *absolutely mandatory* that there are no connections feeding into the input neurons.\n",
    "            z_states[-1] += input_state\n",
    "\n",
    "            # Activation functions are not run on the input nodes prior to entering the network.\n",
    "            # Preprocessing should take care of that anyway.\n",
    "            # So the inputs are considered the z state for their respective neurons.\n",
    "            # The x states on those neurons are all zero, but it doesn't really matter, \n",
    "            # since they can't come up in the backprop anyway.\n",
    "            \n",
    "            # Weighted sum of inputs (always adding the input state in)\n",
    "            new_x_state = z_states[-1] @ temp_weights\n",
    "            \n",
    "            # Apply activation functions to update the state (temporary states are stored for backprop)\n",
    "            new_z_state = np.copy(new_x_state)\n",
    "\n",
    "            # Applying activation functions in separate sets for each neuron that has a given one\n",
    "            new_z_state[self.act == 'relu'] = self.relu(new_z_state[self.act == 'relu'])\n",
    "            # This is kind of dumb, but initializing with 'linear' means numpy will cut off the string 'sigmoid'\n",
    "            new_z_state[self.act == 'sigma'] = self.sigmoid(new_z_state[self.act == 'sigma']) \n",
    "            new_z_state[self.act == 'tanh'] = self.tanh(new_z_state[self.act == 'tanh'])\n",
    "            \n",
    "            x_states.append(new_x_state)\n",
    "            z_states.append(new_z_state)\n",
    "        return np.array(x_states), np.array(z_states)\n",
    "    \n",
    "    # Simple function to get cleaner output\n",
    "    def get_output(self, input_vals, n_steps, seq_len=1):\n",
    "        x, z = self.step(input_vals, n_steps)\n",
    "        return z[-seq_len:][:, self.output_nodes]\n",
    "    \n",
    "    # Old code for reference\n",
    "    \"\"\"\n",
    "    \n",
    "    # Reset state\n",
    "    def reset_state(self):\n",
    "        self.states = [np.zeros(self.size)]\n",
    "        self.tempstates = [np.zeros(self.size)]\n",
    "    \n",
    "    # Runs one time step of the network, with the given input values, and returns the current output values\n",
    "    def step(self, input_vals):\n",
    "        self.time += 1\n",
    "        # tempstate = [self.states[-1][i] for i in range(self.size)]\n",
    "        # Edit the inputs of the last state. This will make things consistent, so each step is a single state\n",
    "        if self.mode == 'overwrite':\n",
    "            for i in range(len(self.input_nodes)):\n",
    "                self.states[-1][self.input_nodes] = input_vals\n",
    "        if self.mode == 'add':\n",
    "            for i in range(len(self.input_nodes)):\n",
    "                self.states[-1][self.input_nodes] += input_vals\n",
    "        \n",
    "        # Bias neurons need to be activated before the step\n",
    "        self.states[-1][self.act == 'bias'] = 1\n",
    "        \n",
    "        # Weighted sum of inputs\n",
    "        tempstate = self.states[-1] @ self.weights\n",
    "        \n",
    "        # Apply activation functions to update the state (temporary states are stored for backprop)\n",
    "        state = np.copy(tempstate)\n",
    "        \n",
    "        # Applying activation functions in separate sets for each neuron that has a given one\n",
    "        state[self.act == 'relu'] = self.relu(state[self.act == 'relu'])\n",
    "        # This is kind of dumb, but initializing with 'linear' means numpy will cut off the string 'sigmoid'\n",
    "        state[self.act == 'sigma'] = self.sigmoid(state[self.act == 'sigma']) \n",
    "        state[self.act == 'tanh'] = self.tanh(state[self.act == 'tanh'])\n",
    "        \n",
    "        output_vals = state[self.output_nodes]\n",
    "        self.tempstates.append(tempstate)\n",
    "        self.states.append(state)\n",
    "        return output_vals\n",
    "    \n",
    "    # Runs several time steps of the network, with the given vector of input value vectors at each time step, \n",
    "    # and returns a vector of output values\n",
    "    def steps(self, input_vals_v, n=1):\n",
    "        output_vals_v = np.zeros((n, len(self.input_nodes)))\n",
    "        empty_input = np.zeros(len(self.input_nodes))\n",
    "        for t in range(max(n, len(input_vals_v))):\n",
    "            input_vals = empty_input\n",
    "            if t < len(input_vals_v):\n",
    "                input_vals = input_vals_v[t]\n",
    "            output_vals_v[t] = self.step(input_vals)\n",
    "        return output_vals_v\n",
    "    \n",
    "    # Run n steps on a input only at initial step\n",
    "    def stepn(self, input_vals_0, n=1, reset=True):\n",
    "        if reset:\n",
    "            self.reset_state()\n",
    "        output_vals_v = np.zeros((n, len(self.output_nodes)))\n",
    "        empty_input = np.zeros(len(self.input_nodes))\n",
    "        for t in range(n):\n",
    "            input_vals = empty_input\n",
    "            if t == 0:\n",
    "                input_vals = input_vals_0\n",
    "            output_vals_v[t] = self.step(input_vals)\n",
    "        return output_vals_v\n",
    "    \n",
    "    # Run as many steps as necessary until you get a nonzero output \n",
    "    # (Obviously not a great thing to run if you have any sigmoid activations)\n",
    "    def stepv(self, input_vals_0, reset=True, max_step=100, verbose=True):\n",
    "        if reset:\n",
    "            self.reset_state()\n",
    "        output_vals = np.zeros(len(self.output_nodes))\n",
    "        empty_input = np.zeros(len(self.input_nodes))\n",
    "        t = 0\n",
    "        while t < max_step and np.count_nonzero(output_vals) == 0:\n",
    "            input_vals = empty_input\n",
    "            if t == 0:\n",
    "                input_vals = input_vals_0\n",
    "            output_vals = self.step(input_vals)\n",
    "            t += 1\n",
    "        if t == max_step:\n",
    "            print(\"Max step reached!\")\n",
    "        if verbose:\n",
    "            print(t)\n",
    "        return output_vals\n",
    "    \"\"\"\n",
    "    \n",
    "    # Combine all the old error functions (for MSE)\n",
    "    # Error calculation must be separate for backprop, because we don't want to run through the steps multiple times.\n",
    "    # So this is just for model evaluation (for a particular training example)\n",
    "    def get_loss(self, input_sequence, label_sequence, delay, weights=None):\n",
    "        using_weights = False\n",
    "        temp_weights = None\n",
    "        if weights is not None:\n",
    "            using_weights = True\n",
    "            temp_weights = weights\n",
    "        seq_len = 1\n",
    "        steps = delay\n",
    "        label_sequence = np.array(label_sequence)\n",
    "        if label_sequence.ndim == 2:\n",
    "            seq_len = label_sequence.shape[0]\n",
    "            steps = delay + seq_len - 1\n",
    "        x_states, z_states = self.step(input_sequence, steps, temp_weights if using_weights else None)\n",
    "        outputs = z_states[-seq_len:, self.output_nodes]\n",
    "        error = np.sum(np.subtract(outputs, label_sequence)**2)\n",
    "        return 0.5*error # 1/2 sum (z-y)^2\n",
    "    \n",
    "    # Old code for reference\n",
    "    \"\"\"\n",
    "    # Waits until the first nonzero output value and uses that as the real output\n",
    "    def error_first(self, train_vals, label_vals, max_step=100):\n",
    "        self.reset_state()\n",
    "        output_vals = np.zeros(len(self.output_nodes))\n",
    "        empty_input = np.zeros(len(self.input_nodes))\n",
    "        t = 0\n",
    "        while t < max_step and np.count_nonzero(output_vals) == 0:\n",
    "            input_vals = empty_input\n",
    "            if t == 0:\n",
    "                input_vals = train_vals\n",
    "            output_vals = self.step(input_vals)\n",
    "            t += 1\n",
    "        if t == max_step:\n",
    "            print(\"Max step reached!\")\n",
    "        err_v = np.subtract(output_vals, label_vals)\n",
    "        return err_v\n",
    "    \n",
    "    # Waits a fixed delay\n",
    "    def error_delay(self, train_vals, label_vals, delay, reset=True, max_step=100):\n",
    "        if reset:\n",
    "            self.reset_state()\n",
    "        output_vals = np.zeros(len(self.output_nodes))\n",
    "        empty_input = np.zeros(len(self.input_nodes))\n",
    "        t = 0\n",
    "        while t < delay:\n",
    "            input_vals = empty_input\n",
    "            if t == 0:\n",
    "                input_vals = train_vals\n",
    "            output_vals = self.step(input_vals)\n",
    "            t += 1\n",
    "        if t == max_step:\n",
    "            print(\"Max step reached!\")\n",
    "        err_v = np.subtract(output_vals, label_vals)\n",
    "        return err_v\n",
    "    \n",
    "    # Delay is until the label sequence starts.\n",
    "    # Training sequence can be any length, but should be a 2D array\n",
    "    def error_sequence(self, train_seq, label_seq, delay=1, reset=True):\n",
    "        if reset:\n",
    "            self.reset_state()\n",
    "        output_seq = np.zeros((len(label_seq), len(self.output_nodes)))\n",
    "        empty_input = np.zeros(len(self.input_nodes))\n",
    "        t = 0\n",
    "        while t < delay+len(label_seq)-1:\n",
    "            input_vals = empty_input\n",
    "            if t < len(train_seq):\n",
    "                input_vals = train_seq[t]\n",
    "            if t < delay-1:\n",
    "                self.step(input_vals)\n",
    "            else:\n",
    "                output_seq[t-delay+1] = self.step(input_vals)\n",
    "            t += 1\n",
    "        #print(output_seq)\n",
    "        #print(label_seq)\n",
    "        err_v = np.subtract(output_seq, label_seq)\n",
    "        #print('Err_v: '+str(err_v))\n",
    "        return err_v\n",
    "    \n",
    "    # Mean square error of training batch. train_x and train_y are batches of training data\n",
    "    # If delay = 0, first nonzero output will be used, otherwise there will be a fixed delay before the output is sampled\n",
    "    def mse_batch(self, train_x, train_y, delay=0, reset=True, max_step=100):\n",
    "        data_type = 'fixed'\n",
    "        if np.asarray(train_x).ndim == 3:\n",
    "            data_type = 'sequence'\n",
    "        mse = 0\n",
    "        # Should be able to parallelize over training examples\n",
    "        # However, I should use a different version of the stepping for this so it doesn't modify the state variable\n",
    "        for k in range(len(train_x)):\n",
    "            if data_type == 'fixed':\n",
    "                if delay == 0:\n",
    "                    mse += np.sum(self.error_first(train_x[k], train_y[k], max_step)**2)\n",
    "                else:\n",
    "                    mse += np.sum(self.error_delay(train_x[k], train_y[k], delay, reset, max_step)**2)\n",
    "            elif data_type == 'sequence':\n",
    "                val = self.error_sequence(train_x[k], train_y[k], delay, reset)\n",
    "                #print('Err: '+str(val))\n",
    "                mse += sum(val**2)\n",
    "        mse /= 2*len(train_x) # Factor of 1/2 for the coefficient of 2 on the derivative to cancel, as usual...\n",
    "        return mse\n",
    "        \"\"\"\n",
    "    \n",
    "    def derivative_relu(self, x):\n",
    "        return 1 * (x > 0)\n",
    "    \n",
    "    # Note that this uses Z instead of X\n",
    "    def derivative_sigmoid(self, z):\n",
    "        return z * (1 - z)\n",
    "    \n",
    "    def derivative_tanh(self, x):\n",
    "        return 4/(np.exp(x) + np.exp(-x))**2\n",
    "    \n",
    "    def derivative_activation(self, X, Z, t):\n",
    "        V = np.ones(self.size)\n",
    "        #V[self.act == 'linear'] = 1\n",
    "        V[self.act == 'bias'] = 0\n",
    "        V[self.act == 'relu'] = self.derivative_relu(X[t][self.act == 'relu'])\n",
    "        V[self.act == 'sigma'] = self.derivative_sigmoid(Z[t][self.act == 'sigma']) \n",
    "        V[self.act == 'tanh'] = self.derivative_tanh(X[t][self.act == 'tanh'])\n",
    "        return V\n",
    "    \n",
    "    def backprop(self, input_sequence, label_sequence, delay, debug=False):\n",
    "        # Calculate the required number of steps using the delay and the length of the label sequence\n",
    "        # If the label sequence is not two-dimensional, then it's just a single output value\n",
    "        seq_len = 1\n",
    "        steps = delay\n",
    "        label_sequence = np.array(label_sequence)\n",
    "        if label_sequence.ndim == 2:\n",
    "            seq_len = label_sequence.shape[0]\n",
    "            steps = delay + seq_len - 1\n",
    "        # Outputs at each time step before and after applying activation functions\n",
    "        X, Z = self.step(input_sequence, steps)\n",
    "        # Output labels\n",
    "        Y = np.zeros((seq_len, self.size))\n",
    "        Y[:, self.output_nodes] = label_sequence\n",
    "        # X and Z are steps x size\n",
    "        # Y is seq_len x size\n",
    "        # Square error\n",
    "        E = np.sum((Z[-seq_len:, self.output_nodes] - label_sequence)**2)\n",
    "        # Masking values\n",
    "        M = np.zeros(self.size)\n",
    "        M[self.output_nodes] = 1\n",
    "        # Alias to make things easier to keep track of...\n",
    "        W = self.weights\n",
    "        #if debug:\n",
    "        #    print('W', '\\n'+str(W))\n",
    "        # Going to be dividing by weights, but throw them out entirely if they are zero\n",
    "        # Turns out the bug was that the values are uninitialized when the where argument is used.\n",
    "        # Easy enough to fix. I still think it's weird that the result depended on whether the array was printed or not.\n",
    "        W_recip = np.zeros_like(W)\n",
    "        np.reciprocal(W, out=W_recip, where=(W != 0))\n",
    "        if debug:\n",
    "            print('W recip', '\\n'+str(W_recip))\n",
    "        # Time delay\n",
    "        T = delay\n",
    "        # Column of 1s to perform broadcasting before a dot product\n",
    "        C = np.ones((self.size, 1))\n",
    "        # The gradient for each weight in the adjacency matrix\n",
    "        D = np.zeros((self.size, self.size))\n",
    "        for S in range(0, seq_len):\n",
    "            # Path concatenation matrix: Weights times activations (applied to X, at various time steps)\n",
    "            B_final = W * self.derivative_activation(X, Z, T+S)\n",
    "            if debug:\n",
    "                print('B at', T+S, '\\n'+str(B_final))\n",
    "            # First order term is relatively simple\n",
    "            first_order = Z[(T+S-1):(T+S)].T * W_recip * (Z[(T+S):(T+S+1)] - Y[S:(S+1)]) * M * B_final\n",
    "            if debug:\n",
    "                print('first order', '\\n'+str(first_order))\n",
    "            D += first_order\n",
    "            B_prod = B_final.copy()\n",
    "            for N in range(1, T+S):\n",
    "                # Pre-multiply by the previous time's path concatenation matrix\n",
    "                B_prev = W * self.derivative_activation(X, Z, T+S-N)\n",
    "                if debug:\n",
    "                    print('B at', T+S-N, '\\n'+str(B_prev))\n",
    "                # Calculate the next order, lining up the matrix product to get a sum over outputs\n",
    "                next_order = Z[(T+S-N-1):(T+S-N)].T * W_recip * B_prev * ((C @ (Z[(T+S):(T+S+1)] - Y[S:(S+1)]) * M) @ B_prod.T)\n",
    "                if debug:\n",
    "                    print('next order', '\\n'+str(next_order))\n",
    "                D += next_order\n",
    "                B_prod = B_prev @ B_prod\n",
    "                if debug:\n",
    "                    print('B_prod', '\\n'+str(B_prod))\n",
    "        # This gradient is calculated for one training example over enough time steps to reach time zero\n",
    "        if debug:\n",
    "            print('D', '\\n'+str(D))\n",
    "        return D, E\n",
    "    \n",
    "    # Example to make sure this makes sense\n",
    "    # T = 1, seq_len = 1\n",
    "    # S = 0, B_1 first\n",
    "    # Z[0:1].T / W * (Z[1:2] - Y[0:1]) * M * B_1\n",
    "    # N loop doesn't activate\n",
    "    #\n",
    "    # T = 2, seq_len = 1\n",
    "    # S = 0, B_2 first\n",
    "    # Z[1:2].T / W * (Z[2:3] - Y[0:1]) * M * B_2\n",
    "    # Z[0:1].T / W * (C @ ((Z[2:3] - Y[0:1]) * M) @ (B_1 @ B2).T)\n",
    "    \n",
    "    # Old code for reference\n",
    "    \"\"\"\n",
    "    # Numpifying this seems difficult, with 4 nested for loops...\n",
    "    # I'm also not entirely sure this is correct. Models trained with it seem to reach the local minimum correctly, though.\n",
    "    def backprop(self, train_vals, label_vals, delay=1, verbose=False):\n",
    "        # Initialize with zero matrix of derivatives for each weight\n",
    "        dw = np.zeros((self.size, self.size))\n",
    "        # Calculate error function\n",
    "        # E = 1/2 (observed - expected)**2\n",
    "        err_v = [[0 for i in range(len(self.output_nodes))]] #Initialize to empty array for each output node\n",
    "        if len(np.asarray(label_vals).shape) == 1:\n",
    "            err_v = [self.error_delay(train_vals, label_vals, delay)] # Row vector, one time step\n",
    "        if len(np.asarray(label_vals).shape) == 2:\n",
    "            err_v = self.error_sequence(train_vals, label_vals, delay=delay) # 2D, rows are time steps\n",
    "        # Look at each time step\n",
    "        for dt in range(len(err_v)):\n",
    "            nodes_i = [self.output_nodes[i] for i in range(len(self.output_nodes))]\n",
    "            nodes_d = [err_v[len(err_v)-1-dt][i] for i in range(len(self.output_nodes))]\n",
    "            newnodes_i = []\n",
    "            newnodes_d = []\n",
    "            # dE/dw = (observed - expected) * d(observed)/dw\n",
    "            for k in range(1, len(self.states)-dt): # Or max step size, maybe? \n",
    "                #print('Paths:', len(nodes_i), \"\\t dt:\", dt, \"\\t k:\", k)\n",
    "                for i in range(len(nodes_i)):\n",
    "                    # node value = activation( weighted sum of input values )\n",
    "                    # d node value / dw = activation'( weighted sum of input values ) * d (weighted sum of input values) / dw\n",
    "                    node_val = self.states[len(self.states)-k-dt][nodes_i[i]]\n",
    "                    node_sum = self.tempstates[len(self.states)-k-dt][nodes_i[i]]\n",
    "                    act_deriv = 1\n",
    "                    #if self.act[nodes_i[i]] == 'linear':\n",
    "                    #    do nothing\n",
    "                    if self.act[nodes_i[i]] == 'relu' and node_sum < 0:\n",
    "                        act_deriv = 0\n",
    "                    if self.act[nodes_i[i]] == 'sigma':\n",
    "                        act_deriv = node_val * (1 - node_val)\n",
    "                    if self.act[nodes_i[i]] == 'tanh':\n",
    "                        act_deriv = 4.0/(math.exp(node_sum)+math.exp(-node_sum))**2\n",
    "                    #print(\"nodes_i[i]\", nodes_i[i])\n",
    "                    in_nodes_i = self.inputs(nodes_i[i])\n",
    "                    #print(\"in_nodes_i\", in_nodes_i)\n",
    "                    for j in range(len(in_nodes_i)):\n",
    "                        # Self-weights are covered just fine when nodes_i[i] = in_nodes_i[j]\n",
    "                        in_node_val = self.states[len(self.states)-(k+1)-dt][in_nodes_i[j]]\n",
    "                        # d (weighted sum of input values) / dw = input value [...for w in these weights]\n",
    "                        dweight = nodes_d[i] * act_deriv * in_node_val\n",
    "                        # Add this to the total derivative with respect to this weight\n",
    "                        dw[nodes_i[i], in_nodes_i[j]] += dweight\n",
    "                        if verbose:\n",
    "                            print(dw)\n",
    "                        # nodes_d stores the buildup of chained derivatives\n",
    "                        weight = self.weights[nodes_i[i], in_nodes_i[j]]\n",
    "                        # d (weighted sum of input values) / dw = ... * weight * d node value / dw\n",
    "                        #print(in_nodes_i, in_nodes_i[j], newnodes_i)\n",
    "                        if in_nodes_i[j] in newnodes_i:\n",
    "                            index = newnodes_i.index(in_nodes_i[j])\n",
    "                            newnodes_d[index] += nodes_d[i] * act_deriv * weight\n",
    "                        else:\n",
    "                            #print(newnodes_i, in_nodes_i[j])\n",
    "                            newnodes_i.append(in_nodes_i[j])\n",
    "                            newnodes_d.append( nodes_d[i] * act_deriv * weight )\n",
    "                nodes_i = newnodes_i\n",
    "                nodes_d = newnodes_d\n",
    "                newnodes_i = []\n",
    "                newnodes_d = []\n",
    "        return dw\n",
    "    \"\"\"\n",
    "    \n",
    "    # Manually check to see if the gradients line up with what the backprop function gives\n",
    "    def gradient_check(self, input_sequence, label_sequence, delay, epsilon):\n",
    "        backprop_gradient = self.backprop(input_sequence, label_sequence, delay)[0]\n",
    "        manual_gradient = np.zeros((self.size, self.size))\n",
    "        base_err = self.get_loss(input_sequence, label_sequence, delay)\n",
    "        for i in range(self.size):\n",
    "            for j in range(self.size):\n",
    "                if self.weights[i, j] == 0:\n",
    "                    continue\n",
    "                dw = np.zeros((self.size, self.size))\n",
    "                dw[i, j] = epsilon\n",
    "                grad = (self.get_loss(input_sequence, label_sequence, delay, self.weights + dw) - base_err)/epsilon\n",
    "                manual_gradient[i, j] = grad\n",
    "        print('Backprop-calculated gradient:')\n",
    "        print(backprop_gradient)\n",
    "        print('Manually-calculated gradient:')\n",
    "        print(manual_gradient)\n",
    "        print('Difference:')\n",
    "        print(backprop_gradient-manual_gradient)\n",
    "    \n",
    "    # Uses the whole dataset as the batches\n",
    "    def train(self, train_x, train_y, delay, epochs, learning_rate):\n",
    "        errors = []\n",
    "        for ep in range(epochs):\n",
    "            avg_D = np.zeros((self.size, self.size))\n",
    "            avg_E = 0\n",
    "            for k in range(len(train_x)):\n",
    "                D, E = self.backprop(train_x[k], train_y[k], delay)\n",
    "                avg_D += D\n",
    "                avg_E += E\n",
    "            avg_D /= len(train_x)\n",
    "            avg_E /= len(train_x)\n",
    "            #print(avg_D)\n",
    "            #print(avg_E)\n",
    "            self.weights += - learning_rate * avg_D\n",
    "            # Evaluate error to see how we're doing.\n",
    "            errors.append(avg_E)\n",
    "        print(self.weights)\n",
    "        return errors"
   ]
  },
  {
   "cell_type": "code",
   "execution_count": 54,
   "metadata": {},
   "outputs": [
    {
     "data": {
      "text/plain": [
       "array([[0., 1., 0.],\n",
       "       [0., 0., 1.],\n",
       "       [0., 0., 0.]])"
      ]
     },
     "execution_count": 54,
     "metadata": {},
     "output_type": "execute_result"
    }
   ],
   "source": [
    "test = GraphNet(3)\n",
    "test.connect(0,1)\n",
    "test.connect(1,2)\n",
    "test.activations([1,2], 'sigma')\n",
    "test.init_markov()\n",
    "test.weights"
   ]
  },
  {
   "cell_type": "code",
   "execution_count": 42,
   "metadata": {},
   "outputs": [],
   "source": [
    "test.weights *= 0.9"
   ]
  },
  {
   "cell_type": "code",
   "execution_count": 31,
   "metadata": {},
   "outputs": [],
   "source": [
    "x, z = test.step([1], 2)"
   ]
  },
  {
   "cell_type": "code",
   "execution_count": 32,
   "metadata": {},
   "outputs": [
    {
     "name": "stdout",
     "output_type": "stream",
     "text": [
      "[[0.         0.         0.        ]\n",
      " [0.         0.9        0.        ]\n",
      " [0.         0.         0.63985455]]\n",
      "[[1.         0.         0.        ]\n",
      " [0.         0.7109495  0.5       ]\n",
      " [0.         0.5        0.65472058]]\n"
     ]
    }
   ],
   "source": [
    "print(x)\n",
    "print(z)"
   ]
  },
  {
   "cell_type": "code",
   "execution_count": 33,
   "metadata": {},
   "outputs": [
    {
     "name": "stdout",
     "output_type": "stream",
     "text": [
      "W recip \n",
      "[[0.         1.11111111 0.        ]\n",
      " [0.         0.         1.11111111]\n",
      " [0.         0.         0.        ]]\n",
      "B at 2 \n",
      "[[0.         0.225      0.        ]\n",
      " [0.         0.         0.20345539]\n",
      " [0.         0.         0.        ]]\n",
      "first order \n",
      "[[ 0.          0.         -0.        ]\n",
      " [ 0.          0.         -0.05549274]\n",
      " [ 0.          0.         -0.        ]]\n",
      "B at 1 \n",
      "[[0.         0.18495028 0.        ]\n",
      " [0.         0.         0.225     ]\n",
      " [0.         0.         0.        ]]\n",
      "next order \n",
      "[[ 0.         -0.01443618  0.        ]\n",
      " [ 0.         -0.          0.        ]\n",
      " [ 0.         -0.          0.        ]]\n",
      "B_prod \n",
      "[[0.         0.         0.03762913]\n",
      " [0.         0.         0.        ]\n",
      " [0.         0.         0.        ]]\n",
      "D \n",
      "[[ 0.         -0.01443618  0.        ]\n",
      " [ 0.          0.         -0.05549274]\n",
      " [ 0.          0.          0.        ]]\n"
     ]
    },
    {
     "data": {
      "text/plain": [
       "(array([[ 0.        , -0.01443618,  0.        ],\n",
       "        [ 0.        ,  0.        , -0.05549274],\n",
       "        [ 0.        ,  0.        ,  0.        ]]), 0.11921787702676306)"
      ]
     },
     "execution_count": 33,
     "metadata": {},
     "output_type": "execute_result"
    }
   ],
   "source": [
    "test.backprop([[1]], [[1]], 2, debug=True)"
   ]
  },
  {
   "cell_type": "code",
   "execution_count": 67,
   "metadata": {},
   "outputs": [
    {
     "name": "stdout",
     "output_type": "stream",
     "text": [
      "Backprop-calculated gradient:\n",
      "[[ 0.         -0.01401536  0.        ]\n",
      " [ 0.          0.         -0.05211305]\n",
      " [ 0.          0.          0.        ]]\n",
      "Manually-calculated gradient:\n",
      "[[ 0.         -0.01401535  0.        ]\n",
      " [ 0.          0.         -0.05211303]\n",
      " [ 0.          0.          0.        ]]\n",
      "Difference:\n",
      "[[ 0.00000000e+00 -4.62332528e-09  0.00000000e+00]\n",
      " [ 0.00000000e+00  0.00000000e+00 -1.94988543e-08]\n",
      " [ 0.00000000e+00  0.00000000e+00  0.00000000e+00]]\n"
     ]
    }
   ],
   "source": [
    "test.gradient_check([[1]], [[1]], 2, epsilon=0.000001)"
   ]
  },
  {
   "cell_type": "code",
   "execution_count": 68,
   "metadata": {},
   "outputs": [],
   "source": [
    "linear = GraphNet(3)\n",
    "linear.connect(0,2)\n",
    "linear.connect(1,2)\n",
    "linear.activation(1, 'bias')\n",
    "linear.define_input([0])\n",
    "linear.define_output([2])\n",
    "linear.init_markov() # Makes it really be slope and intercept 1 to begin"
   ]
  },
  {
   "cell_type": "code",
   "execution_count": 69,
   "metadata": {},
   "outputs": [
    {
     "data": {
      "text/plain": [
       "<matplotlib.collections.PathCollection at 0x20348de6438>"
      ]
     },
     "execution_count": 69,
     "metadata": {},
     "output_type": "execute_result"
    },
    {
     "data": {
      "image/png": "[encoded data removed]",
      "text/plain": [
       "<Figure size 432x288 with 1 Axes>"
      ]
     },
     "metadata": {
      "needs_background": "light"
     },
     "output_type": "display_data"
    }
   ],
   "source": [
    "scatter = 0.1\n",
    "slope = 0.5\n",
    "intercept = 2\n",
    "# Uniformly scattered points off a line\n",
    "train_lin_x = [[-5 + 0.1*i + scatter*(-1+2*random.random())] for i in range(100)]\n",
    "train_lin_y = [[intercept + slope*(-5+0.1*i) + scatter*(-1+2*random.random())] for i in range(100)]\n",
    "plt.scatter(train_lin_x, train_lin_y)"
   ]
  },
  {
   "cell_type": "code",
   "execution_count": 70,
   "metadata": {},
   "outputs": [
    {
     "data": {
      "text/plain": [
       "(array([[0., 0., 0.],\n",
       "        [0., 0., 1.]]), array([[0., 1., 0.],\n",
       "        [0., 0., 1.]]))"
      ]
     },
     "execution_count": 70,
     "metadata": {},
     "output_type": "execute_result"
    }
   ],
   "source": [
    "linear.step([0], 1)"
   ]
  },
  {
   "cell_type": "code",
   "execution_count": 71,
   "metadata": {},
   "outputs": [
    {
     "name": "stdout",
     "output_type": "stream",
     "text": [
      "[[0.         0.         0.50088902]\n",
      " [0.         0.         1.9985163 ]\n",
      " [0.         0.         0.        ]]\n"
     ]
    }
   ],
   "source": [
    "# Estimated slope and intercept are present in the weights of the trained network\n",
    "errs = linear.train(train_lin_x, train_lin_y, delay=1, epochs=100, learning_rate=0.1)"
   ]
  },
  {
   "cell_type": "code",
   "execution_count": 72,
   "metadata": {},
   "outputs": [
    {
     "data": {
      "text/plain": [
       "[<matplotlib.lines.Line2D at 0x20348e86f60>]"
      ]
     },
     "execution_count": 72,
     "metadata": {},
     "output_type": "execute_result"
    },
    {
     "data": {
      "image/png": "[encoded data removed]",
      "text/plain": [
       "<Figure size 432x288 with 1 Axes>"
      ]
     },
     "metadata": {
      "needs_background": "light"
     },
     "output_type": "display_data"
    }
   ],
   "source": [
    "# Seems to work decently well\n",
    "plt.plot(errs)"
   ]
  },
  {
   "cell_type": "code",
   "execution_count": 73,
   "metadata": {},
   "outputs": [
    {
     "name": "stdout",
     "output_type": "stream",
     "text": [
      "Backprop-calculated gradient:\n",
      "[[ 0.          0.          0.61411253]\n",
      " [ 0.          0.         -0.12059935]\n",
      " [ 0.          0.          0.        ]]\n",
      "Manually-calculated gradient:\n",
      "[[ 0.          0.          0.6141255 ]\n",
      " [ 0.          0.         -0.12059885]\n",
      " [ 0.          0.          0.        ]]\n",
      "Difference:\n",
      "[[ 0.00000000e+00  0.00000000e+00 -1.29650873e-05]\n",
      " [ 0.00000000e+00  0.00000000e+00 -5.00009668e-07]\n",
      " [ 0.00000000e+00  0.00000000e+00  0.00000000e+00]]\n"
     ]
    }
   ],
   "source": [
    "linear.gradient_check(train_lin_x[0], train_lin_y[0], delay=1, epsilon=0.000001)"
   ]
  },
  {
   "cell_type": "code",
   "execution_count": 74,
   "metadata": {},
   "outputs": [],
   "source": [
    "# Testing a regular NN as a graph\n",
    "xor_net = GraphNet(6)\n",
    "xor_net.define_input([0,1])\n",
    "xor_net.connect(0,3)\n",
    "xor_net.connect(0,4)\n",
    "xor_net.connect(1,3)\n",
    "xor_net.connect(1,4)\n",
    "xor_net.connect(2,3)\n",
    "xor_net.connect(2,4)\n",
    "xor_net.connect(2,5)\n",
    "xor_net.connect(3,5)\n",
    "xor_net.connect(4,5)\n",
    "xor_net.activation(2, 'bias')\n",
    "xor_net.activations([3,4,5], 'sigma')\n",
    "xor_net.init_random()"
   ]
  },
  {
   "cell_type": "code",
   "execution_count": 75,
   "metadata": {},
   "outputs": [
    {
     "name": "stdout",
     "output_type": "stream",
     "text": [
      "[[-0.          0.          0.          5.22530668  4.8404654   0.        ]\n",
      " [-0.         -0.         -0.         -5.25229404 -4.59368784 -0.        ]\n",
      " [-0.         -0.         -0.         -2.96056489  2.27544543  3.13892944]\n",
      " [ 0.          0.         -0.          0.         -0.          7.13463366]\n",
      " [ 0.          0.          0.         -0.          0.         -6.81103931]\n",
      " [ 0.          0.          0.          0.          0.         -0.        ]]\n"
     ]
    }
   ],
   "source": [
    "train_x = [[0,0], [0,1], [1,0], [1,1]]\n",
    "train_y = [[0], [1], [1], [0]]\n",
    "errs_xor = xor_net.train(train_x, train_y, delay=2, epochs=5000, learning_rate=0.5)"
   ]
  },
  {
   "cell_type": "code",
   "execution_count": 76,
   "metadata": {},
   "outputs": [
    {
     "data": {
      "text/plain": [
       "[<matplotlib.lines.Line2D at 0x20348f08e10>]"
      ]
     },
     "execution_count": 76,
     "metadata": {},
     "output_type": "execute_result"
    },
    {
     "data": {
      "image/png": "[encoded data removed]",
      "text/plain": [
       "<Figure size 432x288 with 1 Axes>"
      ]
     },
     "metadata": {
      "needs_background": "light"
     },
     "output_type": "display_data"
    }
   ],
   "source": [
    "plt.plot(errs_xor)"
   ]
  },
  {
   "cell_type": "code",
   "execution_count": 77,
   "metadata": {},
   "outputs": [
    {
     "name": "stdout",
     "output_type": "stream",
     "text": [
      "(array([[ 0.        ,  0.        ,  0.        ,  0.        ,  0.        ,\n",
      "         0.        ],\n",
      "       [ 0.        ,  0.        ,  0.        , -2.96056489,  2.27544543,\n",
      "         3.13892944],\n",
      "       [ 0.        ,  0.        ,  0.        , -2.96056489,  2.27544543,\n",
      "        -2.68617093]]), array([[0.        , 0.        , 1.        , 0.        , 0.        ,\n",
      "        0.        ],\n",
      "       [0.        , 0.        , 1.        , 0.04923955, 0.90682292,\n",
      "        0.95847029],\n",
      "       [0.        , 0.        , 0.        , 0.04923955, 0.90682292,\n",
      "        0.06379433]]))\n",
      "(array([[ 0.        ,  0.        ,  0.        ,  0.        ,  0.        ,\n",
      "         0.        ],\n",
      "       [ 0.        ,  0.        ,  0.        , -8.21285894, -2.31824241,\n",
      "         3.13892944],\n",
      "       [ 0.        ,  0.        ,  0.        , -2.98755226,  2.52222298,\n",
      "         2.53043521]]), array([[0.00000000e+00, 1.00000000e+00, 1.00000000e+00, 0.00000000e+00,\n",
      "        0.00000000e+00, 0.00000000e+00],\n",
      "       [1.00000000e+00, 1.00000000e+00, 1.00000000e+00, 2.71070928e-04,\n",
      "        8.96233593e-02, 9.58470288e-01],\n",
      "       [0.00000000e+00, 0.00000000e+00, 0.00000000e+00, 4.79913993e-02,\n",
      "        9.25685124e-01, 9.26248089e-01]]))\n",
      "(array([[ 0.        ,  0.        ,  0.        ,  0.        ,  0.        ,\n",
      "         0.        ],\n",
      "       [ 0.        ,  0.        ,  0.        ,  2.26474179,  7.11591083,\n",
      "         3.13892944],\n",
      "       [ 0.        ,  0.        ,  0.        , -2.96056489,  2.27544543,\n",
      "         2.79678533]]), array([[1.        , 0.        , 1.        , 0.        , 0.        ,\n",
      "        0.        ],\n",
      "       [0.        , 0.        , 1.        , 0.90591457, 0.99918858,\n",
      "        0.95847029],\n",
      "       [0.        , 0.        , 0.        , 0.04923955, 0.90682292,\n",
      "        0.94250186]]))\n",
      "(array([[ 0.        ,  0.        ,  0.        ,  0.        ,  0.        ,\n",
      "         0.        ],\n",
      "       [ 0.        ,  0.        ,  0.        , -2.98755226,  2.52222298,\n",
      "         3.13892944],\n",
      "       [ 0.        ,  0.        ,  0.        , -2.98755226,  2.52222298,\n",
      "        -2.82354727]]), array([[1.        , 1.        , 1.        , 0.        , 0.        ,\n",
      "        0.        ],\n",
      "       [1.        , 1.        , 1.        , 0.0479914 , 0.92568512,\n",
      "        0.95847029],\n",
      "       [0.        , 0.        , 0.        , 0.0479914 , 0.92568512,\n",
      "        0.05606491]]))\n"
     ]
    }
   ],
   "source": [
    "# This is pretty much unreadable lol\n",
    "print(xor_net.step([0,0], 2))\n",
    "print(xor_net.step([0,1], 2))\n",
    "print(xor_net.step([1,0], 2))\n",
    "print(xor_net.step([1,1], 2))"
   ]
  },
  {
   "cell_type": "code",
   "execution_count": 79,
   "metadata": {},
   "outputs": [
    {
     "name": "stdout",
     "output_type": "stream",
     "text": [
      "Backprop-calculated gradient:\n",
      "[[ 0.          0.          0.         -0.00092767 -0.00137299  0.        ]\n",
      " [ 0.          0.          0.          0.00095742  0.00140962  0.        ]\n",
      " [ 0.          0.          0.          0.00033519 -0.00076588 -0.00137699]\n",
      " [ 0.          0.          0.          0.          0.         -0.00249415]\n",
      " [ 0.          0.          0.          0.          0.          0.00263667]\n",
      " [ 0.          0.          0.          0.          0.          0.        ]]\n",
      "Manually-calculated gradient:\n",
      "[[ 0.          0.          0.         -0.00092767 -0.00137299  0.        ]\n",
      " [ 0.          0.          0.          0.00095742  0.00140962  0.        ]\n",
      " [ 0.          0.          0.          0.00033519 -0.00076588 -0.00137698]\n",
      " [ 0.          0.          0.          0.          0.         -0.00249414]\n",
      " [ 0.          0.          0.          0.          0.          0.00263668]\n",
      " [ 0.          0.          0.          0.          0.          0.        ]]\n",
      "Difference:\n",
      "[[ 0.00000000e+00  0.00000000e+00  0.00000000e+00 -2.54833334e-09\n",
      "  -1.18065015e-09  0.00000000e+00]\n",
      " [ 0.00000000e+00  0.00000000e+00  0.00000000e+00 -7.09427558e-10\n",
      "  -3.71760311e-09  0.00000000e+00]\n",
      " [ 0.00000000e+00  0.00000000e+00  0.00000000e+00 -3.48917124e-09\n",
      "  -5.74141203e-09 -1.34886290e-08]\n",
      " [ 0.00000000e+00  0.00000000e+00  0.00000000e+00  0.00000000e+00\n",
      "   0.00000000e+00 -2.34718579e-09]\n",
      " [ 0.00000000e+00  0.00000000e+00  0.00000000e+00  0.00000000e+00\n",
      "   0.00000000e+00 -8.03362798e-09]\n",
      " [ 0.00000000e+00  0.00000000e+00  0.00000000e+00  0.00000000e+00\n",
      "   0.00000000e+00  0.00000000e+00]]\n"
     ]
    }
   ],
   "source": [
    "xor_net.gradient_check(train_x, train_y, delay=2, epsilon=0.000001)"
   ]
  },
  {
   "cell_type": "code",
   "execution_count": 158,
   "metadata": {},
   "outputs": [],
   "source": [
    "bpcheck = GraphNet(8)\n",
    "bpcheck.define_input([0,1])\n",
    "bpcheck.define_output([6,7])\n",
    "bpcheck.connect(0,2)\n",
    "bpcheck.connect(1,2)\n",
    "bpcheck.connect_loop([2,3,4,5])\n",
    "bpcheck.connect(4,6)\n",
    "bpcheck.connect(4,7)\n",
    "#bpcheck.init_random()\n",
    "bpcheck.init_uniform()\n",
    "# Square loop with two inputs and outputs"
   ]
  },
  {
   "cell_type": "code",
   "execution_count": 159,
   "metadata": {},
   "outputs": [
    {
     "name": "stdout",
     "output_type": "stream",
     "text": [
      "[[0. 0.]\n",
      " [0. 0.]\n",
      " [0. 0.]\n",
      " [1. 1.]\n",
      " [0. 0.]\n",
      " [0. 0.]\n",
      " [0. 0.]\n",
      " [1. 1.]\n",
      " [0. 0.]\n",
      " [0. 0.]\n",
      " [0. 0.]\n",
      " [1. 1.]]\n",
      "[[0. 0.]\n",
      " [0. 0.]\n",
      " [0. 0.]\n",
      " [1. 1.]\n",
      " [0. 0.]\n",
      " [0. 0.]\n",
      " [0. 0.]\n",
      " [1. 1.]\n",
      " [0. 0.]\n",
      " [0. 0.]\n",
      " [0. 0.]\n",
      " [1. 1.]]\n"
     ]
    }
   ],
   "source": [
    "# Make sure regular stepping works\n",
    "#print(bpcheck.step([0,1]))\n",
    "#print(bpcheck.step([0,0]))\n",
    "#print(bpcheck.step([0,0]))\n",
    "#print(bpcheck.step([0,0]))\n",
    "# Make sure multiple stepping works\n",
    "#bpcheck.reset_state()\n",
    "print(bpcheck.get_output([0,1], 12, 12))\n",
    "print(bpcheck.get_output([1,0], 12, 12))\n",
    "# These are the same, as expected. Bug fixed."
   ]
  },
  {
   "cell_type": "code",
   "execution_count": 160,
   "metadata": {},
   "outputs": [
    {
     "data": {
      "text/plain": [
       "(array([[0. , 0. , 0. , 0. , 0. , 0. , 0. , 0. ],\n",
       "        [0. , 0. , 1. , 0. , 0. , 0. , 0. , 0. ],\n",
       "        [0. , 0. , 0. , 2. , 0. , 0. , 0. , 0. ],\n",
       "        [0. , 0. , 0. , 0. , 2. , 0. , 0. , 0. ],\n",
       "        [0. , 0. , 0. , 0. , 0. , 1. , 0.5, 0.5],\n",
       "        [0. , 0. , 1. , 0. , 0. , 0. , 0. , 0. ],\n",
       "        [0. , 0. , 0. , 0. , 0. , 0. , 0. , 0. ],\n",
       "        [0. , 0. , 0. , 0. , 0. , 0. , 0. , 0. ]]), 0.5)"
      ]
     },
     "execution_count": 160,
     "metadata": {},
     "output_type": "execute_result"
    }
   ],
   "source": [
    "bpcheck.backprop([[0,1]], [[1,1], [0,0], [0,0], [0,0], [0.5,0.5]], delay=4)"
   ]
  },
  {
   "cell_type": "code",
   "execution_count": 161,
   "metadata": {},
   "outputs": [
    {
     "name": "stdout",
     "output_type": "stream",
     "text": [
      "[[0.         0.         1.         0.         0.         0.\n",
      "  0.         0.        ]\n",
      " [0.         0.         1.11742165 0.         0.         0.\n",
      "  0.         0.        ]\n",
      " [0.         0.         0.         0.91886753 0.         0.\n",
      "  0.         0.        ]\n",
      " [0.         0.         0.         0.         0.91886753 0.\n",
      "  0.         0.        ]\n",
      " [0.         0.         0.         0.         0.         0.76954337\n",
      "  1.0599282  1.0599282 ]\n",
      " [0.         0.         0.76954337 0.         0.         0.\n",
      "  0.         0.        ]\n",
      " [0.         0.         0.         0.         0.         0.\n",
      "  0.         0.        ]\n",
      " [0.         0.         0.         0.         0.         0.\n",
      "  0.         0.        ]]\n"
     ]
    }
   ],
   "source": [
    "train_x = [[[0,1]]]\n",
    "train_y = [[[1,1], [0,0], [0,0], [0,0], [0.5,0.5]]]\n",
    "errs_bpc = bpcheck.train(train_x, train_y, delay=4, epochs=200, learning_rate=0.05)"
   ]
  },
  {
   "cell_type": "code",
   "execution_count": 162,
   "metadata": {},
   "outputs": [
    {
     "data": {
      "text/plain": [
       "[<matplotlib.lines.Line2D at 0x20349372f60>]"
      ]
     },
     "execution_count": 162,
     "metadata": {},
     "output_type": "execute_result"
    },
    {
     "data": {
      "image/png": "[encoded data removed]",
      "text/plain": [
       "<Figure size 432x288 with 1 Axes>"
      ]
     },
     "metadata": {
      "needs_background": "light"
     },
     "output_type": "display_data"
    }
   ],
   "source": [
    "plt.plot(errs_bpc)"
   ]
  },
  {
   "cell_type": "code",
   "execution_count": 163,
   "metadata": {},
   "outputs": [
    {
     "data": {
      "text/plain": [
       "array([[0.50000155, 0.50000155],\n",
       "       [0.        , 0.        ],\n",
       "       [0.        , 0.        ],\n",
       "       [0.        , 0.        ],\n",
       "       [0.25000193, 0.25000193]])"
      ]
     },
     "execution_count": 163,
     "metadata": {},
     "output_type": "execute_result"
    }
   ],
   "source": [
    "# Trained perfectly\n",
    "bpcheck.get_output([0,1], 12, 5)"
   ]
  },
  {
   "cell_type": "code",
   "execution_count": 146,
   "metadata": {},
   "outputs": [],
   "source": [
    "fc = GraphNet(7)\n",
    "fc.connect(0,1)\n",
    "fc.connect_complete([1,2,3,4,5])\n",
    "fc.connect(5,6)\n",
    "#fc.activation(6, 'sigma')\n",
    "fc.init_markov()"
   ]
  },
  {
   "cell_type": "code",
   "execution_count": 150,
   "metadata": {},
   "outputs": [
    {
     "data": {
      "text/plain": [
       "[<matplotlib.lines.Line2D at 0x2034904d240>]"
      ]
     },
     "execution_count": 150,
     "metadata": {},
     "output_type": "execute_result"
    },
    {
     "data": {
      "image/png": "[encoded data removed]",
      "text/plain": [
       "<Figure size 432x288 with 1 Axes>"
      ]
     },
     "metadata": {
      "needs_background": "light"
     },
     "output_type": "display_data"
    }
   ],
   "source": [
    "plt.plot(fc.get_output([1], 20, 20))"
   ]
  },
  {
   "cell_type": "code",
   "execution_count": 151,
   "metadata": {},
   "outputs": [
    {
     "data": {
      "text/plain": [
       "(array([[ 0.        , -0.02285141,  0.        ,  0.        ,  0.        ,\n",
       "          0.        ,  0.        ],\n",
       "        [ 0.        ,  0.        , -0.04698958, -0.05082877, -0.04699833,\n",
       "         -0.05913729,  0.        ],\n",
       "        [ 0.        , -0.02796992,  0.        , -0.03240219, -0.02809855,\n",
       "         -0.04159034,  0.        ],\n",
       "        [ 0.        , -0.03067392, -0.03088159,  0.        , -0.03081258,\n",
       "         -0.04663744,  0.        ],\n",
       "        [ 0.        , -0.02969746, -0.02992878, -0.0346864 ,  0.        ,\n",
       "         -0.04481153,  0.        ],\n",
       "        [ 0.        , -0.03052507, -0.03075028, -0.03598602, -0.0306719 ,\n",
       "          0.        , -0.17626287],\n",
       "        [ 0.        ,  0.        ,  0.        ,  0.        ,  0.        ,\n",
       "          0.        ,  0.        ]]), 0.9537496630970231)"
      ]
     },
     "execution_count": 151,
     "metadata": {},
     "output_type": "execute_result"
    }
   ],
   "source": [
    "fc.backprop([[1]], [[1]], delay=10)"
   ]
  },
  {
   "cell_type": "code",
   "execution_count": 152,
   "metadata": {},
   "outputs": [
    {
     "name": "stdout",
     "output_type": "stream",
     "text": [
      "Backprop-calculated gradient:\n",
      "[[ 0.         -0.02285141  0.          0.          0.          0.\n",
      "   0.        ]\n",
      " [ 0.          0.         -0.04698958 -0.05082877 -0.04699833 -0.05913729\n",
      "   0.        ]\n",
      " [ 0.         -0.02796992  0.         -0.03240219 -0.02809855 -0.04159034\n",
      "   0.        ]\n",
      " [ 0.         -0.03067392 -0.03088159  0.         -0.03081258 -0.04663744\n",
      "   0.        ]\n",
      " [ 0.         -0.02969746 -0.02992878 -0.0346864   0.         -0.04481153\n",
      "   0.        ]\n",
      " [ 0.         -0.03052507 -0.03075028 -0.03598602 -0.0306719   0.\n",
      "  -0.17626287]\n",
      " [ 0.          0.          0.          0.          0.          0.\n",
      "   0.        ]]\n",
      "Manually-calculated gradient:\n",
      "[[ 0.         -0.02285141  0.          0.          0.          0.\n",
      "   0.        ]\n",
      " [ 0.          0.         -0.04698987 -0.05082919 -0.04699863 -0.05913776\n",
      "   0.        ]\n",
      " [ 0.         -0.02797004  0.         -0.0324023  -0.02809867 -0.04159059\n",
      "   0.        ]\n",
      " [ 0.         -0.03067403 -0.03088172  0.         -0.0308127  -0.04663773\n",
      "   0.        ]\n",
      " [ 0.         -0.02969757 -0.0299289  -0.03468653  0.         -0.04481185\n",
      "   0.        ]\n",
      " [ 0.         -0.03052517 -0.03075038 -0.03598625 -0.030672    0.\n",
      "  -0.17626271]\n",
      " [ 0.          0.          0.          0.          0.          0.\n",
      "   0.        ]]\n",
      "Difference:\n",
      "[[ 0.00000000e+00 -2.73874741e-09  0.00000000e+00  0.00000000e+00\n",
      "   0.00000000e+00  0.00000000e+00  0.00000000e+00]\n",
      " [ 0.00000000e+00  0.00000000e+00  2.86380083e-07  4.20379332e-07\n",
      "   3.00812213e-07  4.77794720e-07  0.00000000e+00]\n",
      " [ 0.00000000e+00  1.12917637e-07  0.00000000e+00  1.16262633e-07\n",
      "   1.13231946e-07  2.44081333e-07  0.00000000e+00]\n",
      " [ 0.00000000e+00  1.15958485e-07  1.28865193e-07  0.00000000e+00\n",
      "   1.19652994e-07  2.93160413e-07  0.00000000e+00]\n",
      " [ 0.00000000e+00  1.15246435e-07  1.24715841e-07  1.28939577e-07\n",
      "   0.00000000e+00  3.14105164e-07  0.00000000e+00]\n",
      " [ 0.00000000e+00  9.62568699e-08  9.95819898e-08  2.28243830e-07\n",
      "   9.90817508e-08  0.00000000e+00 -1.62883688e-07]\n",
      " [ 0.00000000e+00  0.00000000e+00  0.00000000e+00  0.00000000e+00\n",
      "   0.00000000e+00  0.00000000e+00  0.00000000e+00]]\n"
     ]
    }
   ],
   "source": [
    "fc.gradient_check([[1]], [[1]], delay=10, epsilon=0.00001)"
   ]
  }
 ],
 "metadata": {
  "kernelspec": {
   "display_name": "Python 3",
   "language": "python",
   "name": "python3"
  },
  "language_info": {
   "codemirror_mode": {
    "name": "ipython",
    "version": 3
   },
   "file_extension": ".py",
   "mimetype": "text/x-python",
   "name": "python",
   "nbconvert_exporter": "python",
   "pygments_lexer": "ipython3",
   "version": "3.7.3"
  }
 },
 "nbformat": 4,
 "nbformat_minor": 2
}
